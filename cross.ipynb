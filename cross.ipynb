{
 "cells": [
  {
   "cell_type": "code",
   "execution_count": null,
   "metadata": {},
   "outputs": [],
   "source": [
    "import pandas as pd\n",
    "import numpy as np\n",
    "from difflib import SequenceMatcher\n",
    "from re import sub\n",
    "\n",
    "df = pd.read_csv('[WeVis] They Work for Us - Politician Data - [T] PeopleVote.csv', skiprows=1)\n",
    "df = df.iloc[:, :9]\n",
    "df_ocr = pd.read_csv('20220209190321A17.csv', skiprows=1)"
   ]
  },
  {
   "cell_type": "code",
   "execution_count": null,
   "metadata": {},
   "outputs": [],
   "source": [
    "df_ocr.columns = ['no', 'id', 'fullname', 'party', 'vote']\n",
    "df_ocr = df_ocr.astype(np.str_)"
   ]
  },
  {
   "cell_type": "code",
   "execution_count": null,
   "metadata": {},
   "outputs": [],
   "source": [
    "def similar(a, b):\n",
    "    return SequenceMatcher(lambda x: x in ' ', a, b).ratio()"
   ]
  },
  {
   "cell_type": "code",
   "execution_count": null,
   "metadata": {},
   "outputs": [],
   "source": [
    "def fix_party(p, ps):\n",
    "  if not p: return p\n",
    "\n",
    "  for x in ps:\n",
    "    sim = similar(p, str(x))\n",
    "    if sim > .8:\n",
    "      return x\n",
    "  return p\n",
    "\n",
    "df_ocr.party = df_ocr.party.apply(lambda x: fix_party(x.replace('พรรศ', 'พรรค').replace('พรวศ', 'พรรค').replace('พรรค', ''), df.party.unique()))"
   ]
  },
  {
   "cell_type": "code",
   "execution_count": null,
   "metadata": {},
   "outputs": [],
   "source": [
    "party_b = df_ocr.party.isin(df.party.dropna())"
   ]
  },
  {
   "cell_type": "code",
   "execution_count": null,
   "metadata": {},
   "outputs": [],
   "source": [
    "TITLE = ['ร้อยตํารวจตรี', 'พันเอก', 'ร้อยตํารวจเอก', 'พันตํารวจโท', 'พลตํารวจเอก', 'พันตํารวจเอก']\n",
    "REPLACE = ('นนางสาว', 'นางสาว'), ('นษาง', 'นาง'), ('นบนาย', 'นาย'), ('บาย', 'นาย'), ('พสตํารวจ', 'พลตำรวจ'), ('พลตำรวจตรวี', 'พลตำรวจตรี')\n",
    "\n",
    "def split_name(name, titles):\n",
    "  name = sub('[!-~]', '', name)\n",
    "  for o, n in REPLACE:\n",
    "    if name.startswith(o):\n",
    "      name = name.replace(o, n)\n",
    "\n",
    "  name = sub('(ร้อย|พัน|พล)(ตํารวจ)?(ตรี|โท|เอก)', '', name).strip()\n",
    "\n",
    "  for t in titles:\n",
    "    if name.startswith(t):\n",
    "      return name[len(t):]\n",
    "  return name\n",
    "\n",
    "df_ocr.fullname = df_ocr.fullname.apply(lambda x: split_name(x, df.title.unique().tolist()+TITLE))"
   ]
  },
  {
   "cell_type": "code",
   "execution_count": null,
   "metadata": {},
   "outputs": [],
   "source": [
    "def vote_encoder(vote: str):\n",
    "  '''\n",
    "  1 = เห็นด้วย,\n",
    "  2 = ไม่เห็นด้วย,\n",
    "  3 = งดออกเสียง,\n",
    "  4 = ไม่ลงคะแนนเสียง, \n",
    "  5 = ไม่เข้าร่วมประชุม,\n",
    "  \\- = ไม่ใช่วาระการประชุม\n",
    "  '''\n",
    "  if vote == 'เห็นด้วย':\n",
    "    return 1\n",
    "  if vote == 'ไม่เห็นด้วย':\n",
    "    return 2\n",
    "  if vote == 'งดออกเสียง':\n",
    "    return 3\n",
    "  if vote == 'ไม่ลงคะแนนเสียง':\n",
    "    return 4\n",
    "  if vote == '-':\n",
    "    return 5\n",
    "\n",
    "  p = (similar(vote,'เห็นด้วย'), similar(vote,'ไม่เห็นด้วย'), similar(vote,'งดออกเสียง'), similar(vote, 'ไม่ลงคะแนนเสียง'))\n",
    "  i = np.argmax(p)\n",
    "  if p[i] < .8:\n",
    "    return None\n",
    "  return i + 1"
   ]
  },
  {
   "cell_type": "code",
   "execution_count": null,
   "metadata": {},
   "outputs": [],
   "source": [
    "df_ocr.vote = df_ocr.vote.apply(vote_encoder)"
   ]
  },
  {
   "cell_type": "code",
   "execution_count": null,
   "metadata": {},
   "outputs": [],
   "source": [
    "name_b = df_ocr.fullname.apply(lambda x: x.split(' ')[0]).apply(lambda x: (x == df.name.dropna()).sum())"
   ]
  },
  {
   "cell_type": "code",
   "execution_count": null,
   "metadata": {},
   "outputs": [],
   "source": [
    "def last_name(fullname):\n",
    "  sep_fn = fullname.split(' ', maxsplit=1)\n",
    "  if (len(sep_fn) > 1):\n",
    "    return sep_fn[-1].replace('\\'', '')\n",
    "  return fullname\n",
    "\n",
    "last_name_b = df_ocr.fullname.apply(last_name).isin(df.lastname.dropna())"
   ]
  },
  {
   "cell_type": "code",
   "execution_count": null,
   "metadata": {},
   "outputs": [],
   "source": [
    "name_b.sum(),last_name_b.sum(),(name_b|last_name_b).sum(),party_b.sum()"
   ]
  },
  {
   "cell_type": "code",
   "execution_count": null,
   "metadata": {},
   "outputs": [],
   "source": [
    "included_b = (name_b)|(last_name_b)|(party_b)\n",
    "df_cleaned = df_ocr[included_b]\n",
    "df_cleaned"
   ]
  },
  {
   "cell_type": "code",
   "execution_count": null,
   "metadata": {},
   "outputs": [],
   "source": [
    "match_row = np.full(df.name.shape, np.nan)\n",
    "\n",
    "for i, g in df.groupby('party'):\n",
    "  tmp = df_cleaned[df_cleaned['party'] == i]\n",
    "  for j, r in tmp.iterrows():\n",
    "    sim = g.apply(lambda x: similar(r.fullname.replace(' ', ''), x['name'] + x['lastname']), axis=1)\n",
    "    if sim.max() > .6:\n",
    "      if j not in match_row:\n",
    "        match_row[g.iloc[sim.argmax()].name] = j\n",
    "\n",
    "for i, row in df_ocr[included_b&(df_ocr.index.isin(np.unique(match_row))==False)].iterrows():\n",
    "  sim = df.apply(lambda x: similar(row.fullname.replace(' ', ''), x['name'] + x['lastname']), axis=1)\n",
    "  if sim.max() > .7:\n",
    "    match_row[sim.argmax()] = i\n",
    "\n",
    "df_ocr[included_b&(df_ocr.index.isin(np.unique(match_row))==False)]"
   ]
  },
  {
   "cell_type": "code",
   "execution_count": null,
   "metadata": {},
   "outputs": [],
   "source": [
    "df['ocr'] = match_row"
   ]
  },
  {
   "cell_type": "code",
   "execution_count": null,
   "metadata": {},
   "outputs": [],
   "source": [
    "merged_df = df.merge(df_ocr[['fullname', 'vote']], left_on='ocr', right_index=True)\n",
    "merged_df"
   ]
  },
  {
   "cell_type": "code",
   "execution_count": null,
   "metadata": {},
   "outputs": [],
   "source": [
    "df_ch = pd.read_csv('[WeVis] They Work for Us - Politician Data - [T] PeopleVote.csv', skiprows=1)"
   ]
  },
  {
   "cell_type": "code",
   "execution_count": null,
   "metadata": {},
   "outputs": [],
   "source": [
    "len(df_ch['votelog.__82']),len(vote_82_ocr)"
   ]
  },
  {
   "cell_type": "code",
   "execution_count": null,
   "metadata": {},
   "outputs": [],
   "source": [
    "vote_82_ocr[(df_ch['votelog.__82'].values==vote_82_ocr.apply(str)).values]"
   ]
  },
  {
   "cell_type": "code",
   "execution_count": null,
   "metadata": {},
   "outputs": [],
   "source": [
    "df_ocr.loc[match_row].vote[(df_ch['votelog.__82'].replace('-', 5).astype(np.float16).values==vote_82_ocr.values)==False]"
   ]
  },
  {
   "cell_type": "code",
   "execution_count": null,
   "metadata": {},
   "outputs": [],
   "source": [
    "df_ch['votelog.__82'].isna().sum(),vote_82_ocr.isna().sum()"
   ]
  },
  {
   "cell_type": "code",
   "execution_count": null,
   "metadata": {},
   "outputs": [],
   "source": [
    "(df_ocr.loc[match_row])[df_ch['votelog.__82']=='1'].sample(10)"
   ]
  },
  {
   "cell_type": "code",
   "execution_count": null,
   "metadata": {},
   "outputs": [],
   "source": []
  }
 ],
 "metadata": {
  "interpreter": {
   "hash": "06a1f1a44851178a47cec35640b473cf7ad372c57da1cea48f655073264bf03f"
  },
  "kernelspec": {
   "display_name": "Python 3.9.7 ('base')",
   "language": "python",
   "name": "python3"
  },
  "language_info": {
   "codemirror_mode": {
    "name": "ipython",
    "version": 3
   },
   "file_extension": ".py",
   "mimetype": "text/x-python",
   "name": "python",
   "nbconvert_exporter": "python",
   "pygments_lexer": "ipython3",
   "version": "3.9.7"
  },
  "orig_nbformat": 4
 },
 "nbformat": 4,
 "nbformat_minor": 2
}
