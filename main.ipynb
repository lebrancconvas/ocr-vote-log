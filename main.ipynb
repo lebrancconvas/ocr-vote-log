{
 "cells": [
  {
   "cell_type": "code",
   "execution_count": 6,
   "metadata": {},
   "outputs": [],
   "source": [
    "from src.downloader import *\n",
    "from src.detector import Detector\n",
    "import numpy as np"
   ]
  },
  {
   "cell_type": "code",
   "execution_count": 7,
   "metadata": {},
   "outputs": [
    {
     "data": {
      "text/plain": [
       "(15, 839, 594, 3)"
      ]
     },
     "execution_count": 7,
     "metadata": {},
     "output_type": "execute_result"
    }
   ],
   "source": [
    "fpath = download('https://msbis.parliament.go.th/ewtadmin/ewt/parliament_report/download/vote_detail/20210904112822A5.pdf')\n",
    "images = convert_image(fpath)\n",
    "images.shape"
   ]
  },
  {
   "cell_type": "code",
   "execution_count": 8,
   "metadata": {},
   "outputs": [],
   "source": [
    "detector = Detector(images)"
   ]
  },
  {
   "cell_type": "code",
   "execution_count": 9,
   "metadata": {},
   "outputs": [
    {
     "data": {
      "text/plain": [
       "((624, 4), (624,), (2155, 4))"
      ]
     },
     "execution_count": 9,
     "metadata": {},
     "output_type": "execute_result"
    }
   ],
   "source": [
    "out = detector.detect()\n",
    "out['line'].shape,out['imaeg_id'].shape"
   ]
  },
  {
   "cell_type": "code",
   "execution_count": 14,
   "metadata": {},
   "outputs": [],
   "source": [
    "image = images[0]\n",
    "text_bbox = detector.detect_text(image)\n",
    "text_bbox = text_bbox[detector.filter(text_bbox)]"
   ]
  },
  {
   "cell_type": "code",
   "execution_count": 55,
   "metadata": {},
   "outputs": [],
   "source": [
    "from PIL import Image\n",
    "import cv2\n",
    "\n",
    "def calculate_ratio(width,height):\n",
    "    ratio = width/height\n",
    "    if ratio<1.0:\n",
    "        ratio = 1./ratio\n",
    "    return ratio\n",
    "  \n",
    "def compute_ratio_and_resize(img,width,height,model_height):\n",
    "    ratio = width/height\n",
    "    if ratio<1.0:\n",
    "        ratio = 1./ratio\n",
    "        new_size = (model_height,int(model_height*ratio))\n",
    "    else:\n",
    "        new_size = (int(model_height*ratio),model_height)\n",
    "    img = cv2.resize(img, new_size,interpolation=Image.ANTIALIAS)\n",
    "    return img, ratio"
   ]
  },
  {
   "cell_type": "code",
   "execution_count": 60,
   "metadata": {},
   "outputs": [],
   "source": [
    "def get_image_list(image, bboxes):\n",
    "    sub_images = list()\n",
    "\n",
    "    for x, y, w, h in bboxes:\n",
    "        im = image[y:y+h, x:x+w]\n",
    "        trans_im, _ = compute_ratio_and_resize(im, w, h, 64)\n",
    "        print(trans_im.shape)\n",
    "        sub_images.append(trans_im)\n",
    "    \n",
    "    sub_iamge_arr = np.array(sub_images)\n",
    "    return sub_iamge_arr"
   ]
  },
  {
   "cell_type": "code",
   "execution_count": 1,
   "metadata": {},
   "outputs": [],
   "source": [
    "import easyocr"
   ]
  },
  {
   "cell_type": "code",
   "execution_count": 4,
   "metadata": {},
   "outputs": [
    {
     "name": "stderr",
     "output_type": "stream",
     "text": [
      "CUDA not available - defaulting to CPU. Note: This module is much faster with a GPU.\n"
     ]
    }
   ],
   "source": [
    "reader = easyocr.Reader(['th'])"
   ]
  },
  {
   "cell_type": "code",
   "execution_count": null,
   "metadata": {},
   "outputs": [],
   "source": []
  }
 ],
 "metadata": {
  "kernelspec": {
   "display_name": "Python 3 (ipykernel)",
   "language": "python",
   "name": "python3"
  },
  "language_info": {
   "codemirror_mode": {
    "name": "ipython",
    "version": 3
   },
   "file_extension": ".py",
   "mimetype": "text/x-python",
   "name": "python",
   "nbconvert_exporter": "python",
   "pygments_lexer": "ipython3",
   "version": "3.9.7"
  },
  "vscode": {
   "interpreter": {
    "hash": "06a1f1a44851178a47cec35640b473cf7ad372c57da1cea48f655073264bf03f"
   }
  }
 },
 "nbformat": 4,
 "nbformat_minor": 2
}
