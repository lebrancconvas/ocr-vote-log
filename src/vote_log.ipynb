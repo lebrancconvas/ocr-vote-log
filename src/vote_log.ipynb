{
  "cells": [
    {
      "cell_type": "code",
      "execution_count": null,
      "metadata": {
        "id": "JdBSjC50XVSn"
      },
      "outputs": [],
      "source": [
        "!apt install poppler-utils &> /dev/null\n",
        "!pip install pdf2image tqdm &> /dev/null"
      ]
    },
    {
      "cell_type": "code",
      "execution_count": null,
      "metadata": {
        "colab": {
          "background_save": true,
          "base_uri": "https://localhost:8080/"
        },
        "id": "Ymk1jPhsYkm8",
        "outputId": "e6267d1b-2f54-4ed0-a5c8-f00847f53996"
      },
      "outputs": [
        {
          "name": "stdout",
          "output_type": "stream",
          "text": [
            "Found existing installation: opencv-python-headless 4.1.2.30\n",
            "Uninstalling opencv-python-headless-4.1.2.30:\n",
            "  Would remove:\n",
            "    /usr/local/lib/python3.7/dist-packages/cv2/*\n",
            "    /usr/local/lib/python3.7/dist-packages/opencv_python_headless-4.1.2.30.dist-info/*\n",
            "  Would not remove (might be manually added):\n",
            "    /usr/local/lib/python3.7/dist-packages/cv2/.libs/libQtCore-bbdab771.so.4.8.7\n",
            "    /usr/local/lib/python3.7/dist-packages/cv2/.libs/libQtGui-903938cd.so.4.8.7\n",
            "    /usr/local/lib/python3.7/dist-packages/cv2/.libs/libQtTest-1183da5d.so.4.8.7\n",
            "Proceed (y/n)? "
          ]
        }
      ],
      "source": [
        "!pip uninstall opencv-python-headless \n",
        "!pip install opencv-python-headless==4.1.2.30\n",
        "!pip install easyocr"
      ]
    },
    {
      "cell_type": "code",
      "execution_count": null,
      "metadata": {
        "id": "z_P22UD-amP_"
      },
      "outputs": [],
      "source": [
        "import pandas as pd"
      ]
    },
    {
      "cell_type": "code",
      "execution_count": null,
      "metadata": {
        "id": "EOl3eGVwScgq"
      },
      "outputs": [],
      "source": [
        "import cv2\n",
        "from ipywidgets import interact\n",
        "from matplotlib import pyplot as plt\n",
        "from pdf2image import convert_from_path\n",
        "from google.colab import files\n",
        "import numpy as np\n",
        "import easyocr\n",
        "from tqdm import tqdm"
      ]
    },
    {
      "cell_type": "code",
      "execution_count": null,
      "metadata": {
        "colab": {
          "base_uri": "https://localhost:8080/"
        },
        "id": "er1ewSK1FSQO",
        "outputId": "fc9601d3-1812-4366-965b-0a662bc1023c"
      },
      "outputs": [
        {
          "name": "stdout",
          "output_type": "stream",
          "text": [
            "--2022-05-31 09:33:59--  https://msbis.parliament.go.th/ewtadmin/ewt/parliament_report/download/vote_detail/20220209190321A17.pdf\n",
            "Resolving msbis.parliament.go.th (msbis.parliament.go.th)... 202.122.47.45\n",
            "Connecting to msbis.parliament.go.th (msbis.parliament.go.th)|202.122.47.45|:443... connected.\n",
            "HTTP request sent, awaiting response... 200 OK\n",
            "Length: 129499 (126K) [application/pdf]\n",
            "Saving to: ‘vote.pdf’\n",
            "\n",
            "vote.pdf            100%[===================>] 126.46K   144KB/s    in 0.9s    \n",
            "\n",
            "2022-05-31 09:34:01 (144 KB/s) - ‘vote.pdf’ saved [129499/129499]\n",
            "\n"
          ]
        }
      ],
      "source": [
        "!wget https://msbis.parliament.go.th/ewtadmin/ewt/parliament_report/download/vote_detail/20220209190321A17.pdf -O vote.pdf"
      ]
    },
    {
      "cell_type": "code",
      "execution_count": null,
      "metadata": {
        "id": "Ejo0ohCBXhUy"
      },
      "outputs": [],
      "source": [
        "# pdf_file = files.upload()\n",
        "# converted = convert_from_bytes(pdf_file['20190823113634A11.pdf'], fmt='jpg')"
      ]
    },
    {
      "cell_type": "code",
      "execution_count": null,
      "metadata": {
        "id": "tZWI-eKcUy5o"
      },
      "outputs": [],
      "source": [
        "converted = convert_from_path('/content/vote.pdf', fmt='jpg')"
      ]
    },
    {
      "cell_type": "code",
      "execution_count": null,
      "metadata": {
        "id": "B4RidqVQiEd_"
      },
      "outputs": [],
      "source": [
        "padding = (0, 0)"
      ]
    },
    {
      "cell_type": "code",
      "execution_count": null,
      "metadata": {
        "id": "Jr0o56djeIHB"
      },
      "outputs": [],
      "source": [
        "def add_padding(im):\n",
        "  im[ :padding[1], :]            = 255\n",
        "  im[-padding[1]:, :]            = 255\n",
        "  im[           :, :padding[0]]  = 255\n",
        "  im[           :, -padding[0]:] = 255\n",
        "  return im"
      ]
    },
    {
      "cell_type": "code",
      "execution_count": null,
      "metadata": {
        "colab": {
          "base_uri": "https://localhost:8080/",
          "height": 333,
          "referenced_widgets": [
            "5ab63607a63d4e8f8ed28d8bb88037e2",
            "e6d76829c0494f7aac3e3ca4c076dc08",
            "05d3b707ad3c4c87b8445eb282c73f6e",
            "cddb8a60b3004e279e27b1ff239c519b",
            "2826a4f8b5f44a6486b64f48f2046ee2",
            "8f78a9cc1b4847778dbdad0b122aee18",
            "910ea095d1b9420a934b88aca320d4bf",
            "0f060bc6f7d041e5ab2873a3aaf2c0ba",
            "f50105bab98e4c519631c87fb3f93648",
            "00f9b2409918400db86d53e65e37bdc2"
          ]
        },
        "id": "ECDMNSUzSigs",
        "outputId": "e9e7b6fd-f931-4524-e64b-dbbdea7f1607"
      },
      "outputs": [
        {
          "data": {
            "application/vnd.jupyter.widget-view+json": {
              "model_id": "5ab63607a63d4e8f8ed28d8bb88037e2",
              "version_major": 2,
              "version_minor": 0
            },
            "text/plain": [
              "interactive(children=(IntSlider(value=120, description='padding_x', max=360, min=-120), IntSlider(value=185, d…"
            ]
          },
          "metadata": {},
          "output_type": "display_data"
        }
      ],
      "source": [
        "def draw_padding(padding_x, padding_y):\n",
        "  global padding\n",
        "  padding = (padding_x, padding_y)\n",
        "  image1 = np.array(converted[0])\n",
        "  h, w, c = image1.shape\n",
        "  rec = cv2.rectangle(image1, (padding_x, padding_y), (w-padding_x, h-padding_y), 0, 10)\n",
        "  plt.imshow(rec)\n",
        "interact(draw_padding, padding_x=120, padding_y=185);"
      ]
    },
    {
      "cell_type": "code",
      "execution_count": null,
      "metadata": {
        "id": "FpmYp7iCTpDD"
      },
      "outputs": [],
      "source": [
        "pages = [np.array(im) for im in converted]"
      ]
    },
    {
      "cell_type": "markdown",
      "metadata": {
        "id": "MOVJQdFQSUDG"
      },
      "source": [
        "# หาหลักในหน้า"
      ]
    },
    {
      "cell_type": "code",
      "execution_count": null,
      "metadata": {
        "id": "pxbXafQfdIBT"
      },
      "outputs": [],
      "source": [
        "def detect_column(images):\n",
        "  kernel = cv2.getStructuringElement(cv2.MORPH_RECT, (15, 5))\n",
        "  hist_avg = None\n",
        "  for im in images:\n",
        "    gray = cv2.cvtColor(im, cv2.COLOR_RGB2GRAY)\n",
        "    gray = add_padding(gray)\n",
        "    th, threshed = cv2.threshold(gray, 200, 255, cv2.THRESH_BINARY_INV)\n",
        "    dilated = cv2.dilate(threshed, kernel)\n",
        "    if hist_avg is None:\n",
        "      hist_avg = cv2.reduce(dilated, 0, cv2.REDUCE_AVG)\n",
        "    else:\n",
        "      hist_avg = (hist_avg + cv2.reduce(dilated, 0, cv2.REDUCE_AVG))/2\n",
        "  hist_avg = hist_avg/len(pages)\n",
        "  hist_avg = hist_avg.reshape(-1)\n",
        "\n",
        "  lined = im.copy()\n",
        "  hist_b = hist_avg < hist_avg.std()\n",
        "  cols1 = np.argwhere(hist_b[1:] & (hist_b[1:] ^ hist_b[:-1])).reshape(-1)\n",
        "  cols2 = np.argwhere(hist_b[:-1] & (hist_b[1:] ^ hist_b[:-1])).reshape(-1)\n",
        "  cols = (cols1 + ((cols1 - cols2)*0.8)).astype(int)\n",
        "  return cols"
      ]
    },
    {
      "cell_type": "code",
      "execution_count": null,
      "metadata": {
        "colab": {
          "base_uri": "https://localhost:8080/"
        },
        "id": "DXrOnBA6Sqr6",
        "outputId": "fe914a98-fb0e-4e16-87af-96b401524965"
      },
      "outputs": [
        {
          "data": {
            "text/plain": [
              "array([ 324,  461,  913, 1328, 1510])"
            ]
          },
          "execution_count": 13,
          "metadata": {},
          "output_type": "execute_result"
        }
      ],
      "source": [
        "columns = detect_column(pages)\n",
        "columns"
      ]
    },
    {
      "cell_type": "code",
      "execution_count": null,
      "metadata": {
        "colab": {
          "base_uri": "https://localhost:8080/",
          "height": 286
        },
        "id": "tQsCD4KUZtZG",
        "outputId": "a928c2df-fd96-423f-84e5-e7828d92e53d"
      },
      "outputs": [
        {
          "data": {
            "text/plain": [
              "<matplotlib.image.AxesImage at 0x7ff32c9dedd0>"
            ]
          },
          "execution_count": 14,
          "metadata": {},
          "output_type": "execute_result"
        },
        {
          "data": {
            "image/png": "[encoded data removed]",
            "text/plain": [
              "<Figure size 432x288 with 1 Axes>"
            ]
          },
          "metadata": {},
          "output_type": "display_data"
        }
      ],
      "source": [
        "show_im = pages[4].copy()\n",
        "for col in columns:\n",
        "  show_im = cv2.line(show_im, (col, 0), (col, show_im.shape[0]), (0, 0, 255), 5)\n",
        "\n",
        "plt.imshow(show_im)"
      ]
    },
    {
      "cell_type": "markdown",
      "metadata": {
        "id": "ODoTdx9fSdfe"
      },
      "source": [
        "# หากล่องในแต่ละบรรทัด"
      ]
    },
    {
      "cell_type": "code",
      "execution_count": null,
      "metadata": {
        "colab": {
          "base_uri": "https://localhost:8080/"
        },
        "id": "zfXd8MWTZBZv",
        "outputId": "70fefa25-9318-481f-8771-d9671a7cc1bd"
      },
      "outputs": [
        {
          "name": "stderr",
          "output_type": "stream",
          "text": [
            "Downloading detection model, please wait. This may take several minutes depending upon your network connection.\n"
          ]
        },
        {
          "name": "stdout",
          "output_type": "stream",
          "text": [
            "Progress: |██████████████████████████████████████████████████| 100.0% Complete"
          ]
        },
        {
          "name": "stderr",
          "output_type": "stream",
          "text": [
            "Downloading recognition model, please wait. This may take several minutes depending upon your network connection.\n"
          ]
        },
        {
          "name": "stdout",
          "output_type": "stream",
          "text": [
            "Progress: |██████████████████████████████████████████████████| 100.0% Complete"
          ]
        }
      ],
      "source": [
        "reader = easyocr.Reader(['th'])"
      ]
    },
    {
      "cell_type": "code",
      "execution_count": null,
      "metadata": {
        "colab": {
          "base_uri": "https://localhost:8080/"
        },
        "id": "xCT1JQyVmJ8m",
        "outputId": "7d94115f-0c34-4ee4-dcfc-cfdfcdaf8b54"
      },
      "outputs": [
        {
          "name": "stderr",
          "output_type": "stream",
          "text": [
            "100%|██████████| 15/15 [01:12<00:00,  4.83s/it]\n"
          ]
        }
      ],
      "source": [
        "rects_in_lines = []\n",
        "log = []\n",
        "for image in tqdm(pages):\n",
        "  gray = cv2.cvtColor(image, cv2.COLOR_RGB2GRAY)\n",
        "  gray = add_padding(gray)\n",
        "  blured = cv2.GaussianBlur(gray, (9,9), 0)\n",
        "  th, threshed = cv2.threshold(blured, 200, 255, cv2.THRESH_BINARY_INV|cv2.THRESH_OTSU)\n",
        "  kernel = cv2.getStructuringElement(cv2.MORPH_RECT, (5, 5))\n",
        "  threshed = cv2.dilate(threshed, kernel)\n",
        "  hist = cv2.reduce(threshed, 1, cv2.REDUCE_AVG).reshape(-1)\n",
        "\n",
        "  kernel = cv2.getStructuringElement(cv2.MORPH_RECT, (10, 2))\n",
        "  dilated = cv2.dilate(threshed, kernel)\n",
        "  contours, hier  = cv2.findContours(\n",
        "        dilated, cv2.RETR_EXTERNAL, cv2.CHAIN_APPROX_NONE)\n",
        "  rects = [cv2.boundingRect(c) for c in contours]\n",
        "  rects.sort(key=lambda rect: rect[1])\n",
        "\n",
        "  h,w = image.shape[:2]\n",
        "  stack_y = []\n",
        "  for ii in range(h-1):\n",
        "    if (hist[ii] and not hist[ii+1]):\n",
        "      stack_y.append(ii)\n",
        "    elif (not hist[ii] and hist[ii+1]):\n",
        "      stack_y.append(ii)\n",
        "\n",
        "  line_num = len(stack_y)//2\n",
        "  while(stack_y):\n",
        "    rects_in_col = [[] for _ in range(len(columns)+1)]\n",
        "    line_y2 = stack_y.pop(0)\n",
        "    line_y1 = stack_y.pop(0)\n",
        "    line_rects = []\n",
        "    while rects:\n",
        "      rect = rects[0]\n",
        "      y_mid_point = rect[1] + rect[3]//2\n",
        "      x_mid_point = rect[0] + rect[2]//2\n",
        "      if line_y2 < y_mid_point < line_y1:\n",
        "        rect = rects.pop(0)\n",
        "        line_rects.append(rect)\n",
        "      else:\n",
        "        break\n",
        "    line_rects.sort(key=lambda x: x[0])\n",
        "\n",
        "    for x, y, w, h in line_rects:\n",
        "      col = (x + (w/2) > columns).sum()\n",
        "      text = reader.recognize(image[y:y+h, x:x+w])[0][1]\n",
        "      if col >= len(rects_in_col):\n",
        "        log.append((col, text))\n",
        "        continue\n",
        "      rects_in_col[col].append(text)\n",
        "    rects_in_lines.append(rects_in_col)\n"
      ]
    },
    {
      "cell_type": "code",
      "execution_count": null,
      "metadata": {
        "id": "eBY00tOAT4vU"
      },
      "outputs": [],
      "source": [
        "df = pd.DataFrame([[' '.join(r) for r in line ] for line in rects_in_lines])\n",
        "df.to_csv('vote.csv', index=0)"
      ]
    },
    {
      "cell_type": "markdown",
      "metadata": {
        "id": "CEEmnp78EBVd"
      },
      "source": [
        "# Matching row"
      ]
    },
    {
      "cell_type": "code",
      "execution_count": 1,
      "metadata": {
        "id": "pdvddIRV1FXd"
      },
      "outputs": [],
      "source": [
        "import re\n",
        "import pandas as pd\n",
        "import numpy as np\n",
        "from difflib import SequenceMatcher"
      ]
    },
    {
      "cell_type": "code",
      "execution_count": 2,
      "metadata": {
        "id": "leMoYEGzAFWq"
      },
      "outputs": [],
      "source": [
        "from google.colab import auth\n",
        "auth.authenticate_user()\n",
        "\n",
        "import gspread\n",
        "from google.auth import default\n",
        "creds, _ = default()\n",
        "gc = gspread.authorize(creds)"
      ]
    },
    {
      "cell_type": "code",
      "execution_count": 91,
      "metadata": {
        "id": "G7BBBQ2eTRnT"
      },
      "outputs": [],
      "source": [
        "def similar(a, b):\n",
        "    return SequenceMatcher(lambda x: x in ' ', a, b).ratio()\n",
        "\n",
        "def vote_encoder(vote: str):\n",
        "    '''\n",
        "    1 = เห็นด้วย,\n",
        "    2 = ไม่เห็นด้วย,\n",
        "    3 = งดออกเสียง,\n",
        "    4 = ไม่ลงคะแนนเสียง, \n",
        "    5 = ไม่เข้าร่วมประชุม,\n",
        "    \\- = ไม่ใช่วาระการประชุม\n",
        "    '''\n",
        "    if not isinstance(vote, str):\n",
        "      return 5\n",
        "\n",
        "    vote = vote.replace('.ท็น', 'เห็น').replace('เท็น', 'เห็น')\n",
        "\n",
        "    if vote == 'เห็นด้วย':\n",
        "        return 1\n",
        "    if vote == 'ไม่เห็นด้วย':\n",
        "        return 2\n",
        "    if vote == 'งดออกเสียง':\n",
        "        return 3\n",
        "    if vote == 'ไม่ลงคะแนนเสียง':\n",
        "        return 4\n",
        "    if vote == '-':\n",
        "        return 5\n",
        "    p = (similar(vote, 'เห็นด้วย'), similar(vote, 'ไม่เห็นด้วย'),\n",
        "         similar(vote, 'งดออกเสียง'), similar(vote, 'ไม่ลงคะแนนเสียง'))\n",
        "    i = np.argmax(p)\n",
        "    if p[i] < .8:\n",
        "        return 5\n",
        "    return i + 1"
      ]
    },
    {
      "cell_type": "code",
      "execution_count": 89,
      "metadata": {
        "id": "NFgD3MEbgGd2"
      },
      "outputs": [],
      "source": [
        "def fix_party(p, ps):\n",
        "    if not p:\n",
        "        return p\n",
        "    sim_l = []\n",
        "    for x in ps:\n",
        "        sim = similar(p, str(x))\n",
        "        if sim > .8:\n",
        "            return x\n",
        "        sim_l.append(sim)\n",
        "    if max(sim_l) > 7:\n",
        "      return ps[np.argmax(sim_l).reshape(-1)[0]]\n",
        "    return p"
      ]
    },
    {
      "cell_type": "code",
      "execution_count": 101,
      "metadata": {
        "colab": {
          "base_uri": "https://localhost:8080/",
          "height": 537
        },
        "id": "7hsrFHMf0X-F",
        "outputId": "0eee9001-ad01-4b80-a851-b5fd75b7901f"
      },
      "outputs": [
        {
          "output_type": "execute_result",
          "data": {
            "text/plain": [
              "                           0                                 1  \\\n",
              "0                        NaN    วันที 09 เดือน กุมภาพันธ์ พ.ศ.   \n",
              "1     จำนานผู้เข้าร่วมประชุม                               NaN   \n",
              "2                   เห็นด้าย                               NaN   \n",
              "3                ไม่เห็นด้าย                               NaN   \n",
              "4                 งดออกเสียง                               NaN   \n",
              "..                       ...                               ...   \n",
              "515              เครื่องหมาย                                 บ   \n",
              "516                      NaN  ยู้ปฏิบัติหน้าทีประธานในทีประชุม   \n",
              "517                   นายขวน                           หลีกภัย   \n",
              "518                      NaN                               NaN   \n",
              "519                      NaN                               NaN   \n",
              "\n",
              "                                                     2  \\\n",
              "0                                      2565 เวลา 18:36   \n",
              "1                                                  350   \n",
              "2                                                  219   \n",
              "3                                                  118   \n",
              "4                                                   12   \n",
              "..                                                 ...   \n",
              "515  (ยัติภังค์) หมายถึง ฺผู้ไม่ลงมติ/ผู้ลาประชุม/ผ...   \n",
              "516                                                NaN   \n",
              "517                               ประธานสภาผู้แทนราษฎร   \n",
              "518                                                NaN   \n",
              "519                                                  .   \n",
              "\n",
              "                                                     3  4   5  \n",
              "0    ร่างพระราชบัญญัติแก้ไขเพิ่มเติมประมวลกฎหมายแพ่...  5 NaN  \n",
              "1                อณะรัฐมนตรีรับไปพิจารณาก่อนรับหลักการ  5 NaN  \n",
              "2                                                  NaN  5 NaN  \n",
              "3                                                  NaN  5 NaN  \n",
              "4                                                  NaN  5 NaN  \n",
              "..                                                 ... ..  ..  \n",
              "515                                                NaN  5 NaN  \n",
              "516                                                NaN  5 NaN  \n",
              "517                                                NaN  5 NaN  \n",
              "518                                                  .  5 NaN  \n",
              "519                                                NaN  5 NaN  \n",
              "\n",
              "[520 rows x 6 columns]"
            ],
            "text/html": [
              "\n",
              "  <div id=\"df-c388536c-a986-4502-b2fc-cc0760971a39\">\n",
              "    <div class=\"colab-df-container\">\n",
              "      <div>\n",
              "<style scoped>\n",
              "    .dataframe tbody tr th:only-of-type {\n",
              "        vertical-align: middle;\n",
              "    }\n",
              "\n",
              "    .dataframe tbody tr th {\n",
              "        vertical-align: top;\n",
              "    }\n",
              "\n",
              "    .dataframe thead th {\n",
              "        text-align: right;\n",
              "    }\n",
              "</style>\n",
              "<table border=\"1\" class=\"dataframe\">\n",
              "  <thead>\n",
              "    <tr style=\"text-align: right;\">\n",
              "      <th></th>\n",
              "      <th>0</th>\n",
              "      <th>1</th>\n",
              "      <th>2</th>\n",
              "      <th>3</th>\n",
              "      <th>4</th>\n",
              "      <th>5</th>\n",
              "    </tr>\n",
              "  </thead>\n",
              "  <tbody>\n",
              "    <tr>\n",
              "      <th>0</th>\n",
              "      <td>NaN</td>\n",
              "      <td>วันที 09 เดือน กุมภาพันธ์ พ.ศ.</td>\n",
              "      <td>2565 เวลา 18:36</td>\n",
              "      <td>ร่างพระราชบัญญัติแก้ไขเพิ่มเติมประมวลกฎหมายแพ่...</td>\n",
              "      <td>5</td>\n",
              "      <td>NaN</td>\n",
              "    </tr>\n",
              "    <tr>\n",
              "      <th>1</th>\n",
              "      <td>จำนานผู้เข้าร่วมประชุม</td>\n",
              "      <td>NaN</td>\n",
              "      <td>350</td>\n",
              "      <td>อณะรัฐมนตรีรับไปพิจารณาก่อนรับหลักการ</td>\n",
              "      <td>5</td>\n",
              "      <td>NaN</td>\n",
              "    </tr>\n",
              "    <tr>\n",
              "      <th>2</th>\n",
              "      <td>เห็นด้าย</td>\n",
              "      <td>NaN</td>\n",
              "      <td>219</td>\n",
              "      <td>NaN</td>\n",
              "      <td>5</td>\n",
              "      <td>NaN</td>\n",
              "    </tr>\n",
              "    <tr>\n",
              "      <th>3</th>\n",
              "      <td>ไม่เห็นด้าย</td>\n",
              "      <td>NaN</td>\n",
              "      <td>118</td>\n",
              "      <td>NaN</td>\n",
              "      <td>5</td>\n",
              "      <td>NaN</td>\n",
              "    </tr>\n",
              "    <tr>\n",
              "      <th>4</th>\n",
              "      <td>งดออกเสียง</td>\n",
              "      <td>NaN</td>\n",
              "      <td>12</td>\n",
              "      <td>NaN</td>\n",
              "      <td>5</td>\n",
              "      <td>NaN</td>\n",
              "    </tr>\n",
              "    <tr>\n",
              "      <th>...</th>\n",
              "      <td>...</td>\n",
              "      <td>...</td>\n",
              "      <td>...</td>\n",
              "      <td>...</td>\n",
              "      <td>...</td>\n",
              "      <td>...</td>\n",
              "    </tr>\n",
              "    <tr>\n",
              "      <th>515</th>\n",
              "      <td>เครื่องหมาย</td>\n",
              "      <td>บ</td>\n",
              "      <td>(ยัติภังค์) หมายถึง ฺผู้ไม่ลงมติ/ผู้ลาประชุม/ผ...</td>\n",
              "      <td>NaN</td>\n",
              "      <td>5</td>\n",
              "      <td>NaN</td>\n",
              "    </tr>\n",
              "    <tr>\n",
              "      <th>516</th>\n",
              "      <td>NaN</td>\n",
              "      <td>ยู้ปฏิบัติหน้าทีประธานในทีประชุม</td>\n",
              "      <td>NaN</td>\n",
              "      <td>NaN</td>\n",
              "      <td>5</td>\n",
              "      <td>NaN</td>\n",
              "    </tr>\n",
              "    <tr>\n",
              "      <th>517</th>\n",
              "      <td>นายขวน</td>\n",
              "      <td>หลีกภัย</td>\n",
              "      <td>ประธานสภาผู้แทนราษฎร</td>\n",
              "      <td>NaN</td>\n",
              "      <td>5</td>\n",
              "      <td>NaN</td>\n",
              "    </tr>\n",
              "    <tr>\n",
              "      <th>518</th>\n",
              "      <td>NaN</td>\n",
              "      <td>NaN</td>\n",
              "      <td>NaN</td>\n",
              "      <td>.</td>\n",
              "      <td>5</td>\n",
              "      <td>NaN</td>\n",
              "    </tr>\n",
              "    <tr>\n",
              "      <th>519</th>\n",
              "      <td>NaN</td>\n",
              "      <td>NaN</td>\n",
              "      <td>.</td>\n",
              "      <td>NaN</td>\n",
              "      <td>5</td>\n",
              "      <td>NaN</td>\n",
              "    </tr>\n",
              "  </tbody>\n",
              "</table>\n",
              "<p>520 rows × 6 columns</p>\n",
              "</div>\n",
              "      <button class=\"colab-df-convert\" onclick=\"convertToInteractive('df-c388536c-a986-4502-b2fc-cc0760971a39')\"\n",
              "              title=\"Convert this dataframe to an interactive table.\"\n",
              "              style=\"display:none;\">\n",
              "        \n",
              "  <svg xmlns=\"http://www.w3.org/2000/svg\" height=\"24px\"viewBox=\"0 0 24 24\"\n",
              "       width=\"24px\">\n",
              "    <path d=\"M0 0h24v24H0V0z\" fill=\"none\"/>\n",
              "    <path d=\"M18.56 5.44l.94 2.06.94-2.06 2.06-.94-2.06-.94-.94-2.06-.94 2.06-2.06.94zm-11 1L8.5 8.5l.94-2.06 2.06-.94-2.06-.94L8.5 2.5l-.94 2.06-2.06.94zm10 10l.94 2.06.94-2.06 2.06-.94-2.06-.94-.94-2.06-.94 2.06-2.06.94z\"/><path d=\"M17.41 7.96l-1.37-1.37c-.4-.4-.92-.59-1.43-.59-.52 0-1.04.2-1.43.59L10.3 9.45l-7.72 7.72c-.78.78-.78 2.05 0 2.83L4 21.41c.39.39.9.59 1.41.59.51 0 1.02-.2 1.41-.59l7.78-7.78 2.81-2.81c.8-.78.8-2.07 0-2.86zM5.41 20L4 18.59l7.72-7.72 1.47 1.35L5.41 20z\"/>\n",
              "  </svg>\n",
              "      </button>\n",
              "      \n",
              "  <style>\n",
              "    .colab-df-container {\n",
              "      display:flex;\n",
              "      flex-wrap:wrap;\n",
              "      gap: 12px;\n",
              "    }\n",
              "\n",
              "    .colab-df-convert {\n",
              "      background-color: #E8F0FE;\n",
              "      border: none;\n",
              "      border-radius: 50%;\n",
              "      cursor: pointer;\n",
              "      display: none;\n",
              "      fill: #1967D2;\n",
              "      height: 32px;\n",
              "      padding: 0 0 0 0;\n",
              "      width: 32px;\n",
              "    }\n",
              "\n",
              "    .colab-df-convert:hover {\n",
              "      background-color: #E2EBFA;\n",
              "      box-shadow: 0px 1px 2px rgba(60, 64, 67, 0.3), 0px 1px 3px 1px rgba(60, 64, 67, 0.15);\n",
              "      fill: #174EA6;\n",
              "    }\n",
              "\n",
              "    [theme=dark] .colab-df-convert {\n",
              "      background-color: #3B4455;\n",
              "      fill: #D2E3FC;\n",
              "    }\n",
              "\n",
              "    [theme=dark] .colab-df-convert:hover {\n",
              "      background-color: #434B5C;\n",
              "      box-shadow: 0px 1px 3px 1px rgba(0, 0, 0, 0.15);\n",
              "      filter: drop-shadow(0px 1px 2px rgba(0, 0, 0, 0.3));\n",
              "      fill: #FFFFFF;\n",
              "    }\n",
              "  </style>\n",
              "\n",
              "      <script>\n",
              "        const buttonEl =\n",
              "          document.querySelector('#df-c388536c-a986-4502-b2fc-cc0760971a39 button.colab-df-convert');\n",
              "        buttonEl.style.display =\n",
              "          google.colab.kernel.accessAllowed ? 'block' : 'none';\n",
              "\n",
              "        async function convertToInteractive(key) {\n",
              "          const element = document.querySelector('#df-c388536c-a986-4502-b2fc-cc0760971a39');\n",
              "          const dataTable =\n",
              "            await google.colab.kernel.invokeFunction('convertToInteractive',\n",
              "                                                     [key], {});\n",
              "          if (!dataTable) return;\n",
              "\n",
              "          const docLinkHtml = 'Like what you see? Visit the ' +\n",
              "            '<a target=\"_blank\" href=https://colab.research.google.com/notebooks/data_table.ipynb>data table notebook</a>'\n",
              "            + ' to learn more about interactive tables.';\n",
              "          element.innerHTML = '';\n",
              "          dataTable['output_type'] = 'display_data';\n",
              "          await google.colab.output.renderOutput(dataTable, element);\n",
              "          const docLink = document.createElement('div');\n",
              "          docLink.innerHTML = docLinkHtml;\n",
              "          element.appendChild(docLink);\n",
              "        }\n",
              "      </script>\n",
              "    </div>\n",
              "  </div>\n",
              "  "
            ]
          },
          "metadata": {},
          "execution_count": 101
        }
      ],
      "source": [
        "df = pd.read_csv('/content/vote.csv')\n",
        "df['4'] = df['4'].apply(vote_encoder)\n",
        "df"
      ]
    },
    {
      "cell_type": "code",
      "execution_count": 102,
      "metadata": {
        "id": "JNu_SkwVTDpa"
      },
      "outputs": [],
      "source": [
        "df = df[df['0'].apply(lambda x: str(x).strip().isdigit())\n",
        "   | df['1'].apply(lambda x: str(x).strip().isdigit())\n",
        "]"
      ]
    },
    {
      "cell_type": "code",
      "execution_count": 8,
      "metadata": {
        "colab": {
          "base_uri": "https://localhost:8080/"
        },
        "id": "FaIgIgpFCENb",
        "outputId": "9f3d0783-8da2-4df7-c1e0-a5512b9e4206"
      },
      "outputs": [
        {
          "output_type": "execute_result",
          "data": {
            "text/plain": [
              "<Spreadsheet '[WeVis] They Work for Us - Politician Data' id:1kcom8zgR-FMCGu78bCwilxq5-GrE4NVr5cE4L7geUuo>"
            ]
          },
          "metadata": {},
          "execution_count": 8
        }
      ],
      "source": [
        "they_work_for_us_sheet_id = '1kcom8zgR-FMCGu78bCwilxq5-GrE4NVr5cE4L7geUuo'\n",
        "sheet = gc.open_by_key(they_work_for_us_sheet_id)\n",
        "sheet"
      ]
    },
    {
      "cell_type": "code",
      "source": [
        "rows = sheet.worksheet('[T] PeopleVote').get_all_values()\n",
        "validate_df = pd.DataFrame.from_records(rows[2:], columns=rows[1])"
      ],
      "metadata": {
        "id": "bki7h0wLh39A"
      },
      "execution_count": 9,
      "outputs": []
    },
    {
      "cell_type": "code",
      "execution_count": 92,
      "metadata": {
        "colab": {
          "base_uri": "https://localhost:8080/",
          "height": 424
        },
        "id": "vdv2RjizCnb8",
        "outputId": "72774d37-9caa-4fa7-d711-68bba5d28449"
      },
      "outputs": [
        {
          "output_type": "execute_result",
          "data": {
            "text/plain": [
              "        id      name        lastname                party is_mp is_active\n",
              "0        1  ประยุทธ์      จันทร์โอชา                          0         1\n",
              "1        2   ประวิตร      วงษ์สุวรรณ         พลังประชารัฐ     0         1\n",
              "2        3     สมคิด  จาตุศรีพิทักษ์         พลังประชารัฐ     0         0\n",
              "3        4     วิษณุ        เครืองาม                          0         1\n",
              "4        5    ชัยชาญ        ช้างมงคล                          0         1\n",
              "...    ...       ...             ...                  ...   ...       ...\n",
              "1053  1054       ชวน        ชูจันทร์         พลังประชารัฐ     1         1\n",
              "1054  1055  จักพันธ์    ปิยพรไพบูลย์         ประชาธิปัตย์     1         1\n",
              "1055  1056    สุภาพร        กำเนิดผล         ประชาธิปัตย์     1         1\n",
              "1056  1057   สุเนตตา        แซ่โก๊ะ   รวมพลังประชาชาติไทย     1         1\n",
              "1057  1058   บุญญาพร      นาตะธนภัทร          พลังชาติไทย     1         1\n",
              "\n",
              "[1058 rows x 6 columns]"
            ],
            "text/html": [
              "\n",
              "  <div id=\"df-3434e6ba-6b19-451a-afe3-950156645cdf\">\n",
              "    <div class=\"colab-df-container\">\n",
              "      <div>\n",
              "<style scoped>\n",
              "    .dataframe tbody tr th:only-of-type {\n",
              "        vertical-align: middle;\n",
              "    }\n",
              "\n",
              "    .dataframe tbody tr th {\n",
              "        vertical-align: top;\n",
              "    }\n",
              "\n",
              "    .dataframe thead th {\n",
              "        text-align: right;\n",
              "    }\n",
              "</style>\n",
              "<table border=\"1\" class=\"dataframe\">\n",
              "  <thead>\n",
              "    <tr style=\"text-align: right;\">\n",
              "      <th></th>\n",
              "      <th>id</th>\n",
              "      <th>name</th>\n",
              "      <th>lastname</th>\n",
              "      <th>party</th>\n",
              "      <th>is_mp</th>\n",
              "      <th>is_active</th>\n",
              "    </tr>\n",
              "  </thead>\n",
              "  <tbody>\n",
              "    <tr>\n",
              "      <th>0</th>\n",
              "      <td>1</td>\n",
              "      <td>ประยุทธ์</td>\n",
              "      <td>จันทร์โอชา</td>\n",
              "      <td></td>\n",
              "      <td>0</td>\n",
              "      <td>1</td>\n",
              "    </tr>\n",
              "    <tr>\n",
              "      <th>1</th>\n",
              "      <td>2</td>\n",
              "      <td>ประวิตร</td>\n",
              "      <td>วงษ์สุวรรณ</td>\n",
              "      <td>พลังประชารัฐ</td>\n",
              "      <td>0</td>\n",
              "      <td>1</td>\n",
              "    </tr>\n",
              "    <tr>\n",
              "      <th>2</th>\n",
              "      <td>3</td>\n",
              "      <td>สมคิด</td>\n",
              "      <td>จาตุศรีพิทักษ์</td>\n",
              "      <td>พลังประชารัฐ</td>\n",
              "      <td>0</td>\n",
              "      <td>0</td>\n",
              "    </tr>\n",
              "    <tr>\n",
              "      <th>3</th>\n",
              "      <td>4</td>\n",
              "      <td>วิษณุ</td>\n",
              "      <td>เครืองาม</td>\n",
              "      <td></td>\n",
              "      <td>0</td>\n",
              "      <td>1</td>\n",
              "    </tr>\n",
              "    <tr>\n",
              "      <th>4</th>\n",
              "      <td>5</td>\n",
              "      <td>ชัยชาญ</td>\n",
              "      <td>ช้างมงคล</td>\n",
              "      <td></td>\n",
              "      <td>0</td>\n",
              "      <td>1</td>\n",
              "    </tr>\n",
              "    <tr>\n",
              "      <th>...</th>\n",
              "      <td>...</td>\n",
              "      <td>...</td>\n",
              "      <td>...</td>\n",
              "      <td>...</td>\n",
              "      <td>...</td>\n",
              "      <td>...</td>\n",
              "    </tr>\n",
              "    <tr>\n",
              "      <th>1053</th>\n",
              "      <td>1054</td>\n",
              "      <td>ชวน</td>\n",
              "      <td>ชูจันทร์</td>\n",
              "      <td>พลังประชารัฐ</td>\n",
              "      <td>1</td>\n",
              "      <td>1</td>\n",
              "    </tr>\n",
              "    <tr>\n",
              "      <th>1054</th>\n",
              "      <td>1055</td>\n",
              "      <td>จักพันธ์</td>\n",
              "      <td>ปิยพรไพบูลย์</td>\n",
              "      <td>ประชาธิปัตย์</td>\n",
              "      <td>1</td>\n",
              "      <td>1</td>\n",
              "    </tr>\n",
              "    <tr>\n",
              "      <th>1055</th>\n",
              "      <td>1056</td>\n",
              "      <td>สุภาพร</td>\n",
              "      <td>กำเนิดผล</td>\n",
              "      <td>ประชาธิปัตย์</td>\n",
              "      <td>1</td>\n",
              "      <td>1</td>\n",
              "    </tr>\n",
              "    <tr>\n",
              "      <th>1056</th>\n",
              "      <td>1057</td>\n",
              "      <td>สุเนตตา</td>\n",
              "      <td>แซ่โก๊ะ</td>\n",
              "      <td>รวมพลังประชาชาติไทย</td>\n",
              "      <td>1</td>\n",
              "      <td>1</td>\n",
              "    </tr>\n",
              "    <tr>\n",
              "      <th>1057</th>\n",
              "      <td>1058</td>\n",
              "      <td>บุญญาพร</td>\n",
              "      <td>นาตะธนภัทร</td>\n",
              "      <td>พลังชาติไทย</td>\n",
              "      <td>1</td>\n",
              "      <td>1</td>\n",
              "    </tr>\n",
              "  </tbody>\n",
              "</table>\n",
              "<p>1058 rows × 6 columns</p>\n",
              "</div>\n",
              "      <button class=\"colab-df-convert\" onclick=\"convertToInteractive('df-3434e6ba-6b19-451a-afe3-950156645cdf')\"\n",
              "              title=\"Convert this dataframe to an interactive table.\"\n",
              "              style=\"display:none;\">\n",
              "        \n",
              "  <svg xmlns=\"http://www.w3.org/2000/svg\" height=\"24px\"viewBox=\"0 0 24 24\"\n",
              "       width=\"24px\">\n",
              "    <path d=\"M0 0h24v24H0V0z\" fill=\"none\"/>\n",
              "    <path d=\"M18.56 5.44l.94 2.06.94-2.06 2.06-.94-2.06-.94-.94-2.06-.94 2.06-2.06.94zm-11 1L8.5 8.5l.94-2.06 2.06-.94-2.06-.94L8.5 2.5l-.94 2.06-2.06.94zm10 10l.94 2.06.94-2.06 2.06-.94-2.06-.94-.94-2.06-.94 2.06-2.06.94z\"/><path d=\"M17.41 7.96l-1.37-1.37c-.4-.4-.92-.59-1.43-.59-.52 0-1.04.2-1.43.59L10.3 9.45l-7.72 7.72c-.78.78-.78 2.05 0 2.83L4 21.41c.39.39.9.59 1.41.59.51 0 1.02-.2 1.41-.59l7.78-7.78 2.81-2.81c.8-.78.8-2.07 0-2.86zM5.41 20L4 18.59l7.72-7.72 1.47 1.35L5.41 20z\"/>\n",
              "  </svg>\n",
              "      </button>\n",
              "      \n",
              "  <style>\n",
              "    .colab-df-container {\n",
              "      display:flex;\n",
              "      flex-wrap:wrap;\n",
              "      gap: 12px;\n",
              "    }\n",
              "\n",
              "    .colab-df-convert {\n",
              "      background-color: #E8F0FE;\n",
              "      border: none;\n",
              "      border-radius: 50%;\n",
              "      cursor: pointer;\n",
              "      display: none;\n",
              "      fill: #1967D2;\n",
              "      height: 32px;\n",
              "      padding: 0 0 0 0;\n",
              "      width: 32px;\n",
              "    }\n",
              "\n",
              "    .colab-df-convert:hover {\n",
              "      background-color: #E2EBFA;\n",
              "      box-shadow: 0px 1px 2px rgba(60, 64, 67, 0.3), 0px 1px 3px 1px rgba(60, 64, 67, 0.15);\n",
              "      fill: #174EA6;\n",
              "    }\n",
              "\n",
              "    [theme=dark] .colab-df-convert {\n",
              "      background-color: #3B4455;\n",
              "      fill: #D2E3FC;\n",
              "    }\n",
              "\n",
              "    [theme=dark] .colab-df-convert:hover {\n",
              "      background-color: #434B5C;\n",
              "      box-shadow: 0px 1px 3px 1px rgba(0, 0, 0, 0.15);\n",
              "      filter: drop-shadow(0px 1px 2px rgba(0, 0, 0, 0.3));\n",
              "      fill: #FFFFFF;\n",
              "    }\n",
              "  </style>\n",
              "\n",
              "      <script>\n",
              "        const buttonEl =\n",
              "          document.querySelector('#df-3434e6ba-6b19-451a-afe3-950156645cdf button.colab-df-convert');\n",
              "        buttonEl.style.display =\n",
              "          google.colab.kernel.accessAllowed ? 'block' : 'none';\n",
              "\n",
              "        async function convertToInteractive(key) {\n",
              "          const element = document.querySelector('#df-3434e6ba-6b19-451a-afe3-950156645cdf');\n",
              "          const dataTable =\n",
              "            await google.colab.kernel.invokeFunction('convertToInteractive',\n",
              "                                                     [key], {});\n",
              "          if (!dataTable) return;\n",
              "\n",
              "          const docLinkHtml = 'Like what you see? Visit the ' +\n",
              "            '<a target=\"_blank\" href=https://colab.research.google.com/notebooks/data_table.ipynb>data table notebook</a>'\n",
              "            + ' to learn more about interactive tables.';\n",
              "          element.innerHTML = '';\n",
              "          dataTable['output_type'] = 'display_data';\n",
              "          await google.colab.output.renderOutput(dataTable, element);\n",
              "          const docLink = document.createElement('div');\n",
              "          docLink.innerHTML = docLinkHtml;\n",
              "          element.appendChild(docLink);\n",
              "        }\n",
              "      </script>\n",
              "    </div>\n",
              "  </div>\n",
              "  "
            ]
          },
          "metadata": {},
          "execution_count": 92
        }
      ],
      "source": [
        "worksheet = sheet.worksheet('[T] People')\n",
        "rows = worksheet.get_all_values()\n",
        "people_df = pd.DataFrame.from_records(rows[2:], columns=rows[1])\n",
        "people_df = people_df[['id', 'name', 'lastname', 'party', 'is_mp', 'is_active']]\n",
        "people_df"
      ]
    },
    {
      "cell_type": "code",
      "source": [
        "is_active_mp = (people_df.is_mp == '1') & (people_df.is_active == '1')"
      ],
      "metadata": {
        "id": "qbh2iGV2W0pH"
      },
      "execution_count": 93,
      "outputs": []
    },
    {
      "cell_type": "code",
      "source": [
        "people_df[is_active_mp]"
      ],
      "metadata": {
        "colab": {
          "base_uri": "https://localhost:8080/",
          "height": 424
        },
        "id": "byh-I_l4W__O",
        "outputId": "3d2a7e51-a981-40f9-a199-fa7a03e9d6b8"
      },
      "execution_count": 104,
      "outputs": [
        {
          "output_type": "execute_result",
          "data": {
            "text/plain": [
              "        id       name        lastname                party is_mp is_active  \\\n",
              "21      22        กนก      ลิ้มตระกูล             เพื่อไทย     1         1   \n",
              "22      23        กนก    วงษ์ตระหง่าน         ประชาธิปัตย์     1         1   \n",
              "23      24  กมลศักดิ์        ลีวาเมาะ            ประชาชาติ     1         1   \n",
              "25      26      กรณิศ  งามสุคนธ์รัตนา         พลังประชารัฐ     1         1   \n",
              "26      27     กรวีร์   ปริศนานันทกุล            ภูมิใจไทย     1         1   \n",
              "...    ...        ...             ...                  ...   ...       ...   \n",
              "1053  1054        ชวน        ชูจันทร์         พลังประชารัฐ     1         1   \n",
              "1054  1055   จักพันธ์    ปิยพรไพบูลย์         ประชาธิปัตย์     1         1   \n",
              "1055  1056     สุภาพร        กำเนิดผล         ประชาธิปัตย์     1         1   \n",
              "1056  1057    สุเนตตา        แซ่โก๊ะ   รวมพลังประชาชาติไทย     1         1   \n",
              "1057  1058    บุญญาพร      นาตะธนภัทร          พลังชาติไทย     1         1   \n",
              "\n",
              "      new_vote  \n",
              "21          -1  \n",
              "22          -1  \n",
              "23          -1  \n",
              "25          -1  \n",
              "26          -1  \n",
              "...        ...  \n",
              "1053        -1  \n",
              "1054        -1  \n",
              "1055        -1  \n",
              "1056        -1  \n",
              "1057        -1  \n",
              "\n",
              "[484 rows x 7 columns]"
            ],
            "text/html": [
              "\n",
              "  <div id=\"df-db228d24-ad8e-42f8-85d4-47467dfe8f0d\">\n",
              "    <div class=\"colab-df-container\">\n",
              "      <div>\n",
              "<style scoped>\n",
              "    .dataframe tbody tr th:only-of-type {\n",
              "        vertical-align: middle;\n",
              "    }\n",
              "\n",
              "    .dataframe tbody tr th {\n",
              "        vertical-align: top;\n",
              "    }\n",
              "\n",
              "    .dataframe thead th {\n",
              "        text-align: right;\n",
              "    }\n",
              "</style>\n",
              "<table border=\"1\" class=\"dataframe\">\n",
              "  <thead>\n",
              "    <tr style=\"text-align: right;\">\n",
              "      <th></th>\n",
              "      <th>id</th>\n",
              "      <th>name</th>\n",
              "      <th>lastname</th>\n",
              "      <th>party</th>\n",
              "      <th>is_mp</th>\n",
              "      <th>is_active</th>\n",
              "      <th>new_vote</th>\n",
              "    </tr>\n",
              "  </thead>\n",
              "  <tbody>\n",
              "    <tr>\n",
              "      <th>21</th>\n",
              "      <td>22</td>\n",
              "      <td>กนก</td>\n",
              "      <td>ลิ้มตระกูล</td>\n",
              "      <td>เพื่อไทย</td>\n",
              "      <td>1</td>\n",
              "      <td>1</td>\n",
              "      <td>-1</td>\n",
              "    </tr>\n",
              "    <tr>\n",
              "      <th>22</th>\n",
              "      <td>23</td>\n",
              "      <td>กนก</td>\n",
              "      <td>วงษ์ตระหง่าน</td>\n",
              "      <td>ประชาธิปัตย์</td>\n",
              "      <td>1</td>\n",
              "      <td>1</td>\n",
              "      <td>-1</td>\n",
              "    </tr>\n",
              "    <tr>\n",
              "      <th>23</th>\n",
              "      <td>24</td>\n",
              "      <td>กมลศักดิ์</td>\n",
              "      <td>ลีวาเมาะ</td>\n",
              "      <td>ประชาชาติ</td>\n",
              "      <td>1</td>\n",
              "      <td>1</td>\n",
              "      <td>-1</td>\n",
              "    </tr>\n",
              "    <tr>\n",
              "      <th>25</th>\n",
              "      <td>26</td>\n",
              "      <td>กรณิศ</td>\n",
              "      <td>งามสุคนธ์รัตนา</td>\n",
              "      <td>พลังประชารัฐ</td>\n",
              "      <td>1</td>\n",
              "      <td>1</td>\n",
              "      <td>-1</td>\n",
              "    </tr>\n",
              "    <tr>\n",
              "      <th>26</th>\n",
              "      <td>27</td>\n",
              "      <td>กรวีร์</td>\n",
              "      <td>ปริศนานันทกุล</td>\n",
              "      <td>ภูมิใจไทย</td>\n",
              "      <td>1</td>\n",
              "      <td>1</td>\n",
              "      <td>-1</td>\n",
              "    </tr>\n",
              "    <tr>\n",
              "      <th>...</th>\n",
              "      <td>...</td>\n",
              "      <td>...</td>\n",
              "      <td>...</td>\n",
              "      <td>...</td>\n",
              "      <td>...</td>\n",
              "      <td>...</td>\n",
              "      <td>...</td>\n",
              "    </tr>\n",
              "    <tr>\n",
              "      <th>1053</th>\n",
              "      <td>1054</td>\n",
              "      <td>ชวน</td>\n",
              "      <td>ชูจันทร์</td>\n",
              "      <td>พลังประชารัฐ</td>\n",
              "      <td>1</td>\n",
              "      <td>1</td>\n",
              "      <td>-1</td>\n",
              "    </tr>\n",
              "    <tr>\n",
              "      <th>1054</th>\n",
              "      <td>1055</td>\n",
              "      <td>จักพันธ์</td>\n",
              "      <td>ปิยพรไพบูลย์</td>\n",
              "      <td>ประชาธิปัตย์</td>\n",
              "      <td>1</td>\n",
              "      <td>1</td>\n",
              "      <td>-1</td>\n",
              "    </tr>\n",
              "    <tr>\n",
              "      <th>1055</th>\n",
              "      <td>1056</td>\n",
              "      <td>สุภาพร</td>\n",
              "      <td>กำเนิดผล</td>\n",
              "      <td>ประชาธิปัตย์</td>\n",
              "      <td>1</td>\n",
              "      <td>1</td>\n",
              "      <td>-1</td>\n",
              "    </tr>\n",
              "    <tr>\n",
              "      <th>1056</th>\n",
              "      <td>1057</td>\n",
              "      <td>สุเนตตา</td>\n",
              "      <td>แซ่โก๊ะ</td>\n",
              "      <td>รวมพลังประชาชาติไทย</td>\n",
              "      <td>1</td>\n",
              "      <td>1</td>\n",
              "      <td>-1</td>\n",
              "    </tr>\n",
              "    <tr>\n",
              "      <th>1057</th>\n",
              "      <td>1058</td>\n",
              "      <td>บุญญาพร</td>\n",
              "      <td>นาตะธนภัทร</td>\n",
              "      <td>พลังชาติไทย</td>\n",
              "      <td>1</td>\n",
              "      <td>1</td>\n",
              "      <td>-1</td>\n",
              "    </tr>\n",
              "  </tbody>\n",
              "</table>\n",
              "<p>484 rows × 7 columns</p>\n",
              "</div>\n",
              "      <button class=\"colab-df-convert\" onclick=\"convertToInteractive('df-db228d24-ad8e-42f8-85d4-47467dfe8f0d')\"\n",
              "              title=\"Convert this dataframe to an interactive table.\"\n",
              "              style=\"display:none;\">\n",
              "        \n",
              "  <svg xmlns=\"http://www.w3.org/2000/svg\" height=\"24px\"viewBox=\"0 0 24 24\"\n",
              "       width=\"24px\">\n",
              "    <path d=\"M0 0h24v24H0V0z\" fill=\"none\"/>\n",
              "    <path d=\"M18.56 5.44l.94 2.06.94-2.06 2.06-.94-2.06-.94-.94-2.06-.94 2.06-2.06.94zm-11 1L8.5 8.5l.94-2.06 2.06-.94-2.06-.94L8.5 2.5l-.94 2.06-2.06.94zm10 10l.94 2.06.94-2.06 2.06-.94-2.06-.94-.94-2.06-.94 2.06-2.06.94z\"/><path d=\"M17.41 7.96l-1.37-1.37c-.4-.4-.92-.59-1.43-.59-.52 0-1.04.2-1.43.59L10.3 9.45l-7.72 7.72c-.78.78-.78 2.05 0 2.83L4 21.41c.39.39.9.59 1.41.59.51 0 1.02-.2 1.41-.59l7.78-7.78 2.81-2.81c.8-.78.8-2.07 0-2.86zM5.41 20L4 18.59l7.72-7.72 1.47 1.35L5.41 20z\"/>\n",
              "  </svg>\n",
              "      </button>\n",
              "      \n",
              "  <style>\n",
              "    .colab-df-container {\n",
              "      display:flex;\n",
              "      flex-wrap:wrap;\n",
              "      gap: 12px;\n",
              "    }\n",
              "\n",
              "    .colab-df-convert {\n",
              "      background-color: #E8F0FE;\n",
              "      border: none;\n",
              "      border-radius: 50%;\n",
              "      cursor: pointer;\n",
              "      display: none;\n",
              "      fill: #1967D2;\n",
              "      height: 32px;\n",
              "      padding: 0 0 0 0;\n",
              "      width: 32px;\n",
              "    }\n",
              "\n",
              "    .colab-df-convert:hover {\n",
              "      background-color: #E2EBFA;\n",
              "      box-shadow: 0px 1px 2px rgba(60, 64, 67, 0.3), 0px 1px 3px 1px rgba(60, 64, 67, 0.15);\n",
              "      fill: #174EA6;\n",
              "    }\n",
              "\n",
              "    [theme=dark] .colab-df-convert {\n",
              "      background-color: #3B4455;\n",
              "      fill: #D2E3FC;\n",
              "    }\n",
              "\n",
              "    [theme=dark] .colab-df-convert:hover {\n",
              "      background-color: #434B5C;\n",
              "      box-shadow: 0px 1px 3px 1px rgba(0, 0, 0, 0.15);\n",
              "      filter: drop-shadow(0px 1px 2px rgba(0, 0, 0, 0.3));\n",
              "      fill: #FFFFFF;\n",
              "    }\n",
              "  </style>\n",
              "\n",
              "      <script>\n",
              "        const buttonEl =\n",
              "          document.querySelector('#df-db228d24-ad8e-42f8-85d4-47467dfe8f0d button.colab-df-convert');\n",
              "        buttonEl.style.display =\n",
              "          google.colab.kernel.accessAllowed ? 'block' : 'none';\n",
              "\n",
              "        async function convertToInteractive(key) {\n",
              "          const element = document.querySelector('#df-db228d24-ad8e-42f8-85d4-47467dfe8f0d');\n",
              "          const dataTable =\n",
              "            await google.colab.kernel.invokeFunction('convertToInteractive',\n",
              "                                                     [key], {});\n",
              "          if (!dataTable) return;\n",
              "\n",
              "          const docLinkHtml = 'Like what you see? Visit the ' +\n",
              "            '<a target=\"_blank\" href=https://colab.research.google.com/notebooks/data_table.ipynb>data table notebook</a>'\n",
              "            + ' to learn more about interactive tables.';\n",
              "          element.innerHTML = '';\n",
              "          dataTable['output_type'] = 'display_data';\n",
              "          await google.colab.output.renderOutput(dataTable, element);\n",
              "          const docLink = document.createElement('div');\n",
              "          docLink.innerHTML = docLinkHtml;\n",
              "          element.appendChild(docLink);\n",
              "        }\n",
              "      </script>\n",
              "    </div>\n",
              "  </div>\n",
              "  "
            ]
          },
          "metadata": {},
          "execution_count": 104
        }
      ]
    },
    {
      "cell_type": "code",
      "execution_count": 105,
      "metadata": {
        "colab": {
          "base_uri": "https://localhost:8080/"
        },
        "id": "SJOwxAMjgOGi",
        "outputId": "015c9fd5-3d64-4e2b-aba7-b037017c0db7"
      },
      "outputs": [
        {
          "output_type": "stream",
          "name": "stderr",
          "text": [
            "/usr/local/lib/python3.7/dist-packages/ipykernel_launcher.py:2: SettingWithCopyWarning: \n",
            "A value is trying to be set on a copy of a slice from a DataFrame.\n",
            "Try using .loc[row_indexer,col_indexer] = value instead\n",
            "\n",
            "See the caveats in the documentation: https://pandas.pydata.org/pandas-docs/stable/user_guide/indexing.html#returning-a-view-versus-a-copy\n",
            "  \n"
          ]
        }
      ],
      "source": [
        "df['3'] = df['3'].apply(\n",
        "    lambda x: fix_party(\n",
        "      str(x).replace('.', '')\n",
        "      .replace(',', '')\n",
        "      .replace('พรรศ', 'พรรค')\n",
        "      .replace('ทรรค', 'พรรค')\n",
        "      .replace('พรวศ', 'พรรค')\n",
        "      .replace('พรรค', ''),\n",
        "      people_df.party.unique()\n",
        "      ))"
      ]
    },
    {
      "cell_type": "code",
      "source": [
        "df['3'].unique()"
      ],
      "metadata": {
        "colab": {
          "base_uri": "https://localhost:8080/"
        },
        "id": "7IX3hg1HwwHd",
        "outputId": "0b16e4df-d0be-43ab-f0c1-e4630bc5f5c2"
      },
      "execution_count": 107,
      "outputs": [
        {
          "output_type": "execute_result",
          "data": {
            "text/plain": [
              "array(['เพื่อไทย', 'เพือไหย', 'พื่วไทย', 'พลังประชารัฐ', 'ภูมิใจไทย',\n",
              "       'ก้าวไกล', 'ประชาธิปัตย์', 'เศรษฐกิจไทย', 'ชาติไทยพัฒนา',\n",
              "       'เสรีรวมไทย', 'สรีรามไทย ', 'ประชาชาติ', 'เพื่อชาติไทย',\n",
              "       'เพื่อชาติ', 'เศรษฐกิจใหม่', 'พลังท้องถิ่นไท',\n",
              "       'รวมพลังประชาชาติไทย', '-', 'ต', '=', 'รักษ์ผืนป่าประเทศไทย',\n",
              "       'ครูไทยเพื่อประชาชน', 'ไทยศรีวิไลย์', 'ไทรักธรรม',\n",
              "       'ประชาธิปไตยใหม่', 'ประชาภิวัฒน์', 'พลเมืองไทย', 'พลังชาติไทย',\n",
              "       'พลังธรรมใหม่', 'พลังปวงชนไทย'], dtype=object)"
            ]
          },
          "metadata": {},
          "execution_count": 107
        }
      ]
    },
    {
      "cell_type": "code",
      "execution_count": 130,
      "metadata": {
        "id": "wARklvL2iNLd"
      },
      "outputs": [],
      "source": [
        "people_df = people_df.assign(new_vote=-1)\n",
        "num_of_it = 0\n",
        "title_re = r'(นาย|นาง(สาว)?|ศาสตราจารย์|(พล|พัน)?(ตำรวจ|นาวาอากาศ)?(เอก|โท|ตรี)?)'\n",
        "thai_char_re = r'[^\\u0E00-\\u0E7F]+'\n",
        "not_matched = []\n",
        "for party, g in df.groupby('3'):\n",
        "  ocr_names = g['2'].apply(lambda x: \n",
        "                       re.sub(title_re, '', re.sub(thai_char_re, '', x)))\n",
        "  filtered = people_df[(people_df.party == party) & is_active_mp]\n",
        "  for j, ocr_name in ocr_names.items():\n",
        "    found = False\n",
        "    index_l = []\n",
        "    sim_l = []\n",
        "    for i, row in filtered.iterrows():\n",
        "      if people_df.loc[i, 'new_vote'] != -1: continue\n",
        "      num_of_it += 1\n",
        "      name = re.sub(thai_char_re, '', ''.join(row[['name', 'lastname']].values))\n",
        "      if name == ocr_name or name in ocr_name:\n",
        "        found = True\n",
        "        people_df.loc[i, 'new_vote'] = df.loc[j]['4']\n",
        "        break\n",
        "\n",
        "      sim = similar(name, ocr_name)\n",
        "      index_l.append(i)\n",
        "      sim_l.append(sim)\n",
        "    \n",
        "    if not found and sim_l and max(sim_l) > .7:\n",
        "      index_of_max = sim_l.index(max(sim_l))\n",
        "      people_index_max = index_l[index_of_max]\n",
        "\n",
        "      people_df.loc[people_index_max, 'new_vote'] = df.loc[j]['4']\n",
        "      # print(ocr_name, people_df.loc[people_index_max, ['name', 'lastname']].values)\n",
        "    elif not found:\n",
        "      not_matched.append((j, ocr_name))\n"
      ]
    },
    {
      "cell_type": "code",
      "source": [
        "def name_similar(name, row):\n",
        "  name = re.sub(thai_char_re, '', ''.join(row[['name', 'lastname']].values))\n",
        "  return similar(name, ocr_name)\n",
        "\n",
        "filtered = people_df[is_active_mp\n",
        "            & (people_df.new_vote == -1)]\n",
        "\n",
        "for i, ocr_name in not_matched:\n",
        "  sim_sr = filtered.apply(lambda x: name_similar(ocr_name, x), axis=1)\n",
        "  idx = filtered.iloc[sim_sr.argmax()].name\n",
        "\n",
        "  people_df.loc[idx, 'new_vote'] = df.loc[i]['4']"
      ],
      "metadata": {
        "id": "-y7KIHf089qo"
      },
      "execution_count": 145,
      "outputs": []
    },
    {
      "cell_type": "code",
      "source": [
        "match_b = (validate_df['votelog.__82']\n",
        "      .replace('-', -1)\n",
        "      .replace('', 5)\n",
        "      .astype(int)\n",
        "      .values \\\n",
        "    == people_df\n",
        "      .new_vote\n",
        "      .values)"
      ],
      "metadata": {
        "id": "7znQRA4biQxF"
      },
      "execution_count": 150,
      "outputs": []
    },
    {
      "cell_type": "code",
      "source": [
        "(~match_b).sum()"
      ],
      "metadata": {
        "colab": {
          "base_uri": "https://localhost:8080/"
        },
        "id": "ghZjlvtfln_u",
        "outputId": "71cf8843-75ee-41b1-8f02-33878d522e0c"
      },
      "execution_count": 152,
      "outputs": [
        {
          "output_type": "execute_result",
          "data": {
            "text/plain": [
              "0"
            ]
          },
          "metadata": {},
          "execution_count": 152
        }
      ]
    },
    {
      "cell_type": "code",
      "source": [
        "people_df.assign(val=validate_df['votelog.__82'].replace('-', -1).replace('', 5).astype(int).values)[match_b]"
      ],
      "metadata": {
        "colab": {
          "base_uri": "https://localhost:8080/",
          "height": 49
        },
        "id": "qAZVyrHmPnoN",
        "outputId": "83b789b4-af79-4673-c7d6-859c8424e416"
      },
      "execution_count": 149,
      "outputs": [
        {
          "output_type": "execute_result",
          "data": {
            "text/plain": [
              "Empty DataFrame\n",
              "Columns: [id, name, lastname, party, is_mp, is_active, new_vote, val]\n",
              "Index: []"
            ],
            "text/html": [
              "\n",
              "  <div id=\"df-ed44fb03-5ba1-4510-885a-484d8461845c\">\n",
              "    <div class=\"colab-df-container\">\n",
              "      <div>\n",
              "<style scoped>\n",
              "    .dataframe tbody tr th:only-of-type {\n",
              "        vertical-align: middle;\n",
              "    }\n",
              "\n",
              "    .dataframe tbody tr th {\n",
              "        vertical-align: top;\n",
              "    }\n",
              "\n",
              "    .dataframe thead th {\n",
              "        text-align: right;\n",
              "    }\n",
              "</style>\n",
              "<table border=\"1\" class=\"dataframe\">\n",
              "  <thead>\n",
              "    <tr style=\"text-align: right;\">\n",
              "      <th></th>\n",
              "      <th>id</th>\n",
              "      <th>name</th>\n",
              "      <th>lastname</th>\n",
              "      <th>party</th>\n",
              "      <th>is_mp</th>\n",
              "      <th>is_active</th>\n",
              "      <th>new_vote</th>\n",
              "      <th>val</th>\n",
              "    </tr>\n",
              "  </thead>\n",
              "  <tbody>\n",
              "  </tbody>\n",
              "</table>\n",
              "</div>\n",
              "      <button class=\"colab-df-convert\" onclick=\"convertToInteractive('df-ed44fb03-5ba1-4510-885a-484d8461845c')\"\n",
              "              title=\"Convert this dataframe to an interactive table.\"\n",
              "              style=\"display:none;\">\n",
              "        \n",
              "  <svg xmlns=\"http://www.w3.org/2000/svg\" height=\"24px\"viewBox=\"0 0 24 24\"\n",
              "       width=\"24px\">\n",
              "    <path d=\"M0 0h24v24H0V0z\" fill=\"none\"/>\n",
              "    <path d=\"M18.56 5.44l.94 2.06.94-2.06 2.06-.94-2.06-.94-.94-2.06-.94 2.06-2.06.94zm-11 1L8.5 8.5l.94-2.06 2.06-.94-2.06-.94L8.5 2.5l-.94 2.06-2.06.94zm10 10l.94 2.06.94-2.06 2.06-.94-2.06-.94-.94-2.06-.94 2.06-2.06.94z\"/><path d=\"M17.41 7.96l-1.37-1.37c-.4-.4-.92-.59-1.43-.59-.52 0-1.04.2-1.43.59L10.3 9.45l-7.72 7.72c-.78.78-.78 2.05 0 2.83L4 21.41c.39.39.9.59 1.41.59.51 0 1.02-.2 1.41-.59l7.78-7.78 2.81-2.81c.8-.78.8-2.07 0-2.86zM5.41 20L4 18.59l7.72-7.72 1.47 1.35L5.41 20z\"/>\n",
              "  </svg>\n",
              "      </button>\n",
              "      \n",
              "  <style>\n",
              "    .colab-df-container {\n",
              "      display:flex;\n",
              "      flex-wrap:wrap;\n",
              "      gap: 12px;\n",
              "    }\n",
              "\n",
              "    .colab-df-convert {\n",
              "      background-color: #E8F0FE;\n",
              "      border: none;\n",
              "      border-radius: 50%;\n",
              "      cursor: pointer;\n",
              "      display: none;\n",
              "      fill: #1967D2;\n",
              "      height: 32px;\n",
              "      padding: 0 0 0 0;\n",
              "      width: 32px;\n",
              "    }\n",
              "\n",
              "    .colab-df-convert:hover {\n",
              "      background-color: #E2EBFA;\n",
              "      box-shadow: 0px 1px 2px rgba(60, 64, 67, 0.3), 0px 1px 3px 1px rgba(60, 64, 67, 0.15);\n",
              "      fill: #174EA6;\n",
              "    }\n",
              "\n",
              "    [theme=dark] .colab-df-convert {\n",
              "      background-color: #3B4455;\n",
              "      fill: #D2E3FC;\n",
              "    }\n",
              "\n",
              "    [theme=dark] .colab-df-convert:hover {\n",
              "      background-color: #434B5C;\n",
              "      box-shadow: 0px 1px 3px 1px rgba(0, 0, 0, 0.15);\n",
              "      filter: drop-shadow(0px 1px 2px rgba(0, 0, 0, 0.3));\n",
              "      fill: #FFFFFF;\n",
              "    }\n",
              "  </style>\n",
              "\n",
              "      <script>\n",
              "        const buttonEl =\n",
              "          document.querySelector('#df-ed44fb03-5ba1-4510-885a-484d8461845c button.colab-df-convert');\n",
              "        buttonEl.style.display =\n",
              "          google.colab.kernel.accessAllowed ? 'block' : 'none';\n",
              "\n",
              "        async function convertToInteractive(key) {\n",
              "          const element = document.querySelector('#df-ed44fb03-5ba1-4510-885a-484d8461845c');\n",
              "          const dataTable =\n",
              "            await google.colab.kernel.invokeFunction('convertToInteractive',\n",
              "                                                     [key], {});\n",
              "          if (!dataTable) return;\n",
              "\n",
              "          const docLinkHtml = 'Like what you see? Visit the ' +\n",
              "            '<a target=\"_blank\" href=https://colab.research.google.com/notebooks/data_table.ipynb>data table notebook</a>'\n",
              "            + ' to learn more about interactive tables.';\n",
              "          element.innerHTML = '';\n",
              "          dataTable['output_type'] = 'display_data';\n",
              "          await google.colab.output.renderOutput(dataTable, element);\n",
              "          const docLink = document.createElement('div');\n",
              "          docLink.innerHTML = docLinkHtml;\n",
              "          element.appendChild(docLink);\n",
              "        }\n",
              "      </script>\n",
              "    </div>\n",
              "  </div>\n",
              "  "
            ]
          },
          "metadata": {},
          "execution_count": 149
        }
      ]
    },
    {
      "cell_type": "code",
      "source": [
        ""
      ],
      "metadata": {
        "id": "09P4RZXbj0o0"
      },
      "execution_count": null,
      "outputs": []
    }
  ],
  "metadata": {
    "colab": {
      "collapsed_sections": [],
      "name": "vote-log.ipynb",
      "provenance": []
    },
    "kernelspec": {
      "display_name": "Python 3",
      "name": "python3"
    },
    "language_info": {
      "name": "python"
    },
    "widgets": {
      "application/vnd.jupyter.widget-state+json": {
        "00f9b2409918400db86d53e65e37bdc2": {
          "model_module": "@jupyter-widgets/base",
          "model_module_version": "1.2.0",
          "model_name": "LayoutModel",
          "state": {
            "_model_module": "@jupyter-widgets/base",
            "_model_module_version": "1.2.0",
            "_model_name": "LayoutModel",
            "_view_count": null,
            "_view_module": "@jupyter-widgets/base",
            "_view_module_version": "1.2.0",
            "_view_name": "LayoutView",
            "align_content": null,
            "align_items": null,
            "align_self": null,
            "border": null,
            "bottom": null,
            "display": null,
            "flex": null,
            "flex_flow": null,
            "grid_area": null,
            "grid_auto_columns": null,
            "grid_auto_flow": null,
            "grid_auto_rows": null,
            "grid_column": null,
            "grid_gap": null,
            "grid_row": null,
            "grid_template_areas": null,
            "grid_template_columns": null,
            "grid_template_rows": null,
            "height": null,
            "justify_content": null,
            "justify_items": null,
            "left": null,
            "margin": null,
            "max_height": null,
            "max_width": null,
            "min_height": null,
            "min_width": null,
            "object_fit": null,
            "object_position": null,
            "order": null,
            "overflow": null,
            "overflow_x": null,
            "overflow_y": null,
            "padding": null,
            "right": null,
            "top": null,
            "visibility": null,
            "width": null
          }
        },
        "05d3b707ad3c4c87b8445eb282c73f6e": {
          "model_module": "@jupyter-widgets/controls",
          "model_module_version": "1.5.0",
          "model_name": "IntSliderModel",
          "state": {
            "_dom_classes": [],
            "_model_module": "@jupyter-widgets/controls",
            "_model_module_version": "1.5.0",
            "_model_name": "IntSliderModel",
            "_view_count": null,
            "_view_module": "@jupyter-widgets/controls",
            "_view_module_version": "1.5.0",
            "_view_name": "IntSliderView",
            "continuous_update": true,
            "description": "padding_y",
            "description_tooltip": null,
            "disabled": false,
            "layout": "IPY_MODEL_0f060bc6f7d041e5ab2873a3aaf2c0ba",
            "max": 555,
            "min": -185,
            "orientation": "horizontal",
            "readout": true,
            "readout_format": "d",
            "step": 1,
            "style": "IPY_MODEL_f50105bab98e4c519631c87fb3f93648",
            "value": 185
          }
        },
        "0f060bc6f7d041e5ab2873a3aaf2c0ba": {
          "model_module": "@jupyter-widgets/base",
          "model_module_version": "1.2.0",
          "model_name": "LayoutModel",
          "state": {
            "_model_module": "@jupyter-widgets/base",
            "_model_module_version": "1.2.0",
            "_model_name": "LayoutModel",
            "_view_count": null,
            "_view_module": "@jupyter-widgets/base",
            "_view_module_version": "1.2.0",
            "_view_name": "LayoutView",
            "align_content": null,
            "align_items": null,
            "align_self": null,
            "border": null,
            "bottom": null,
            "display": null,
            "flex": null,
            "flex_flow": null,
            "grid_area": null,
            "grid_auto_columns": null,
            "grid_auto_flow": null,
            "grid_auto_rows": null,
            "grid_column": null,
            "grid_gap": null,
            "grid_row": null,
            "grid_template_areas": null,
            "grid_template_columns": null,
            "grid_template_rows": null,
            "height": null,
            "justify_content": null,
            "justify_items": null,
            "left": null,
            "margin": null,
            "max_height": null,
            "max_width": null,
            "min_height": null,
            "min_width": null,
            "object_fit": null,
            "object_position": null,
            "order": null,
            "overflow": null,
            "overflow_x": null,
            "overflow_y": null,
            "padding": null,
            "right": null,
            "top": null,
            "visibility": null,
            "width": null
          }
        },
        "2826a4f8b5f44a6486b64f48f2046ee2": {
          "model_module": "@jupyter-widgets/base",
          "model_module_version": "1.2.0",
          "model_name": "LayoutModel",
          "state": {
            "_model_module": "@jupyter-widgets/base",
            "_model_module_version": "1.2.0",
            "_model_name": "LayoutModel",
            "_view_count": null,
            "_view_module": "@jupyter-widgets/base",
            "_view_module_version": "1.2.0",
            "_view_name": "LayoutView",
            "align_content": null,
            "align_items": null,
            "align_self": null,
            "border": null,
            "bottom": null,
            "display": null,
            "flex": null,
            "flex_flow": null,
            "grid_area": null,
            "grid_auto_columns": null,
            "grid_auto_flow": null,
            "grid_auto_rows": null,
            "grid_column": null,
            "grid_gap": null,
            "grid_row": null,
            "grid_template_areas": null,
            "grid_template_columns": null,
            "grid_template_rows": null,
            "height": null,
            "justify_content": null,
            "justify_items": null,
            "left": null,
            "margin": null,
            "max_height": null,
            "max_width": null,
            "min_height": null,
            "min_width": null,
            "object_fit": null,
            "object_position": null,
            "order": null,
            "overflow": null,
            "overflow_x": null,
            "overflow_y": null,
            "padding": null,
            "right": null,
            "top": null,
            "visibility": null,
            "width": null
          }
        },
        "5ab63607a63d4e8f8ed28d8bb88037e2": {
          "model_module": "@jupyter-widgets/controls",
          "model_module_version": "1.5.0",
          "model_name": "VBoxModel",
          "state": {
            "_dom_classes": [
              "widget-interact"
            ],
            "_model_module": "@jupyter-widgets/controls",
            "_model_module_version": "1.5.0",
            "_model_name": "VBoxModel",
            "_view_count": null,
            "_view_module": "@jupyter-widgets/controls",
            "_view_module_version": "1.5.0",
            "_view_name": "VBoxView",
            "box_style": "",
            "children": [
              "IPY_MODEL_e6d76829c0494f7aac3e3ca4c076dc08",
              "IPY_MODEL_05d3b707ad3c4c87b8445eb282c73f6e",
              "IPY_MODEL_cddb8a60b3004e279e27b1ff239c519b"
            ],
            "layout": "IPY_MODEL_2826a4f8b5f44a6486b64f48f2046ee2"
          }
        },
        "8f78a9cc1b4847778dbdad0b122aee18": {
          "model_module": "@jupyter-widgets/base",
          "model_module_version": "1.2.0",
          "model_name": "LayoutModel",
          "state": {
            "_model_module": "@jupyter-widgets/base",
            "_model_module_version": "1.2.0",
            "_model_name": "LayoutModel",
            "_view_count": null,
            "_view_module": "@jupyter-widgets/base",
            "_view_module_version": "1.2.0",
            "_view_name": "LayoutView",
            "align_content": null,
            "align_items": null,
            "align_self": null,
            "border": null,
            "bottom": null,
            "display": null,
            "flex": null,
            "flex_flow": null,
            "grid_area": null,
            "grid_auto_columns": null,
            "grid_auto_flow": null,
            "grid_auto_rows": null,
            "grid_column": null,
            "grid_gap": null,
            "grid_row": null,
            "grid_template_areas": null,
            "grid_template_columns": null,
            "grid_template_rows": null,
            "height": null,
            "justify_content": null,
            "justify_items": null,
            "left": null,
            "margin": null,
            "max_height": null,
            "max_width": null,
            "min_height": null,
            "min_width": null,
            "object_fit": null,
            "object_position": null,
            "order": null,
            "overflow": null,
            "overflow_x": null,
            "overflow_y": null,
            "padding": null,
            "right": null,
            "top": null,
            "visibility": null,
            "width": null
          }
        },
        "910ea095d1b9420a934b88aca320d4bf": {
          "model_module": "@jupyter-widgets/controls",
          "model_module_version": "1.5.0",
          "model_name": "SliderStyleModel",
          "state": {
            "_model_module": "@jupyter-widgets/controls",
            "_model_module_version": "1.5.0",
            "_model_name": "SliderStyleModel",
            "_view_count": null,
            "_view_module": "@jupyter-widgets/base",
            "_view_module_version": "1.2.0",
            "_view_name": "StyleView",
            "description_width": "",
            "handle_color": null
          }
        },
        "cddb8a60b3004e279e27b1ff239c519b": {
          "model_module": "@jupyter-widgets/output",
          "model_module_version": "1.0.0",
          "model_name": "OutputModel",
          "state": {
            "_dom_classes": [],
            "_model_module": "@jupyter-widgets/output",
            "_model_module_version": "1.0.0",
            "_model_name": "OutputModel",
            "_view_count": null,
            "_view_module": "@jupyter-widgets/output",
            "_view_module_version": "1.0.0",
            "_view_name": "OutputView",
            "layout": "IPY_MODEL_00f9b2409918400db86d53e65e37bdc2",
            "msg_id": "",
            "outputs": [
              {
                "data": {
                  "image/png": "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\n",
                  "text/plain": "<Figure size 432x288 with 1 Axes>"
                },
                "metadata": {
                  "needs_background": "light"
                },
                "output_type": "display_data"
              }
            ]
          }
        },
        "e6d76829c0494f7aac3e3ca4c076dc08": {
          "model_module": "@jupyter-widgets/controls",
          "model_module_version": "1.5.0",
          "model_name": "IntSliderModel",
          "state": {
            "_dom_classes": [],
            "_model_module": "@jupyter-widgets/controls",
            "_model_module_version": "1.5.0",
            "_model_name": "IntSliderModel",
            "_view_count": null,
            "_view_module": "@jupyter-widgets/controls",
            "_view_module_version": "1.5.0",
            "_view_name": "IntSliderView",
            "continuous_update": true,
            "description": "padding_x",
            "description_tooltip": null,
            "disabled": false,
            "layout": "IPY_MODEL_8f78a9cc1b4847778dbdad0b122aee18",
            "max": 360,
            "min": -120,
            "orientation": "horizontal",
            "readout": true,
            "readout_format": "d",
            "step": 1,
            "style": "IPY_MODEL_910ea095d1b9420a934b88aca320d4bf",
            "value": 120
          }
        },
        "f50105bab98e4c519631c87fb3f93648": {
          "model_module": "@jupyter-widgets/controls",
          "model_module_version": "1.5.0",
          "model_name": "SliderStyleModel",
          "state": {
            "_model_module": "@jupyter-widgets/controls",
            "_model_module_version": "1.5.0",
            "_model_name": "SliderStyleModel",
            "_view_count": null,
            "_view_module": "@jupyter-widgets/base",
            "_view_module_version": "1.2.0",
            "_view_name": "StyleView",
            "description_width": "",
            "handle_color": null
          }
        }
      }
    }
  },
  "nbformat": 4,
  "nbformat_minor": 0
}