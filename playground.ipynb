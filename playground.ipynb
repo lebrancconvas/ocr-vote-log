{
 "cells": [
  {
   "cell_type": "code",
   "execution_count": 2,
   "metadata": {},
   "outputs": [],
   "source": [
    "import pandas as pd\n",
    "import requests\n",
    "import os\n",
    "import cv2\n",
    "import json\n",
    "import numpy as np\n",
    "\n",
    "vote_count_fpath = 'test/[WeVis] They Work for Us - Politician Data - [T] PeopleVote.csv'\n",
    "vote_fpath = 'test/[WeVis] They Work for Us - Politician Data - [T] Votelog.csv'"
   ]
  },
  {
   "cell_type": "code",
   "execution_count": 3,
   "metadata": {},
   "outputs": [],
   "source": [
    "# images_p = [os.path.join('test/pdf/20190823113634A11', f) for f in os.listdir('test/pdf/20190823113634A11')]\n",
    "# images = [cv2.imread(f) for f in images_p]"
   ]
  },
  {
   "cell_type": "code",
   "execution_count": 4,
   "metadata": {},
   "outputs": [],
   "source": [
    "def parse_text(image):\n",
    "      gray = cv2.cvtColor(image, cv2.COLOR_RGB2GRAY)\n",
    "      blured = cv2.GaussianBlur(gray, (1, 9), 0)\n",
    "      th, threshed = cv2.threshold(blured, 200, 255, cv2.THRESH_BINARY_INV|cv2.THRESH_OTSU)\n",
    "      kernel = cv2.getStructuringElement(cv2.MORPH_RECT, (5, 5))\n",
    "      threshed = cv2.dilate(threshed, kernel)\n",
    "      hist = cv2.reduce(threshed, 1, cv2.REDUCE_AVG).reshape(-1)\n",
    "\n",
    "      kernel = cv2.getStructuringElement(cv2.MORPH_RECT, (10, 2))\n",
    "      dilated = cv2.dilate(threshed, kernel)\n",
    "      contours, hier  = cv2.findContours(\n",
    "            dilated, cv2.RETR_EXTERNAL, cv2.CHAIN_APPROX_NONE)\n",
    "      rects = [cv2.boundingRect(c) for c in contours]\n",
    "      rects.sort(key=lambda rect: rect[1])\n",
    "\n",
    "      return rects\n"
   ]
  },
  {
   "cell_type": "code",
   "execution_count": 5,
   "metadata": {},
   "outputs": [
    {
     "data": {
      "text/plain": [
       "'/Users/napatswift/wevis/ocr-vote-log'"
      ]
     },
     "execution_count": 5,
     "metadata": {},
     "output_type": "execute_result"
    }
   ],
   "source": [
    "os.path.abspath('')"
   ]
  },
  {
   "cell_type": "code",
   "execution_count": 6,
   "metadata": {},
   "outputs": [],
   "source": [
    "pdf_dir = 'test/pdf'\n",
    "images = {}\n",
    "for dirpath, dir, filenames in os.walk(pdf_dir):\n",
    "  # if dirpath == pdf_dir: continue\n",
    "  for fname in filenames:\n",
    "    if not fname.endswith('.png'): continue\n",
    "    fpath = os.path.join(dirpath, fname)\n",
    "    image = cv2.imread(fpath)\n",
    "    images[fpath] = image\n",
    "\n"
   ]
  },
  {
   "cell_type": "code",
   "execution_count": 6,
   "metadata": {},
   "outputs": [
    {
     "data": {
      "text/plain": [
       "1232"
      ]
     },
     "execution_count": 6,
     "metadata": {},
     "output_type": "execute_result"
    }
   ],
   "source": [
    "len(images.keys())"
   ]
  },
  {
   "cell_type": "code",
   "execution_count": 7,
   "metadata": {},
   "outputs": [
    {
     "data": {
      "text/plain": [
       "(2088, 1480, 3)"
      ]
     },
     "execution_count": 7,
     "metadata": {},
     "output_type": "execute_result"
    }
   ],
   "source": [
    "image.shape"
   ]
  },
  {
   "cell_type": "code",
   "execution_count": 23,
   "metadata": {},
   "outputs": [],
   "source": [
    "pred = []\n",
    "image_boxes = []\n",
    "for fpath, image in images.items():\n",
    "  boxes = parse_text(image)\n",
    "  image_boxes.append(boxes)\n",
    "      "
   ]
  },
  {
   "cell_type": "code",
   "execution_count": null,
   "metadata": {},
   "outputs": [],
   "source": [
    "def label_studio_input(boxes, fpath):\n",
    "  for x, y, width, height in boxes:\n",
    "    size.append(width*height)\n",
    "    ratio.append(width/height)\n",
    "    if width * height < 250 or width/height < 0.2: continue\n",
    "    results.append({\n",
    "          \"original_width\": imw,\n",
    "          \"original_height\": imh,\n",
    "          \"image_rotation\": 0,\n",
    "          \"value\": {\n",
    "            \"x\": (x/imw)*100,\n",
    "            \"y\": (y)/imh*100,\n",
    "            \"width\":width/imw*100,\n",
    "            \"height\": height/imh*100,\n",
    "            \"rotation\": 0,\n",
    "            \"rectanglelabels\": [\n",
    "              \"text\"\n",
    "            ]\n",
    "          },\n",
    "          \"from_name\": \"label\",\n",
    "          \"to_name\": \"image\",\n",
    "          \"type\": \"rectanglelabels\",\n",
    "        },)\n",
    "    imabspath = os.path.abspath(fpath)\n",
    "    imid += 1\n",
    "    return {\n",
    "      'data': {'ocr': '/data/local-files/?d='+imabspath},\n",
    "      'predictions': [{\n",
    "        'model_version': '0.0.1',\n",
    "        'id': id,\n",
    "        'result': results,\n",
    "      }]\n",
    "    }"
   ]
  },
  {
   "cell_type": "code",
   "execution_count": 16,
   "metadata": {},
   "outputs": [],
   "source": [
    "with open('ds/pred.json', 'w') as f:\n",
    "  json.dump(pred, f, indent=3)"
   ]
  },
  {
   "cell_type": "markdown",
   "metadata": {},
   "source": [
    "# validate"
   ]
  },
  {
   "cell_type": "code",
   "execution_count": 15,
   "metadata": {},
   "outputs": [],
   "source": [
    "import numpy as np"
   ]
  },
  {
   "cell_type": "code",
   "execution_count": 13,
   "metadata": {},
   "outputs": [],
   "source": [
    "size = []\n",
    "for impred in pred:\n",
    "  for prediction in impred['predictions']:\n",
    "    new_res = []\n",
    "    for result in prediction['result']:\n",
    "      w = result['value']['width']\n",
    "      h = result['value']['height']\n",
    "      size.append(w*h)\n",
    "      if w*h > 1:\n",
    "        new_res.append(result)\n",
    "    # annot['result'] = list()\n",
    "    # annot['predictions'] = new_res"
   ]
  },
  {
   "cell_type": "markdown",
   "metadata": {},
   "source": [
    "# Column"
   ]
  },
  {
   "cell_type": "code",
   "execution_count": 18,
   "metadata": {},
   "outputs": [],
   "source": [
    "def detect_column(images):\n",
    "  kernel = cv2.getStructuringElement(cv2.MORPH_RECT, (15, 5))\n",
    "  hist_avg = None\n",
    "  for im in images:\n",
    "    gray = cv2.cvtColor(im, cv2.COLOR_RGB2GRAY)\n",
    "    th, threshed = cv2.threshold(gray, 200, 255, cv2.THRESH_BINARY_INV)\n",
    "    dilated = cv2.dilate(threshed, kernel, iterations=3)\n",
    "\n",
    "    if hist_avg is None:\n",
    "      hist_avg = cv2.reduce(dilated, 0, cv2.REDUCE_AVG)\n",
    "    else:\n",
    "      hist_avg = (hist_avg + cv2.reduce(dilated, 0, cv2.REDUCE_AVG)) / 2\n",
    "\n",
    "  hist_avg = hist_avg.reshape(-1)\n",
    "\n",
    "  lined = im.copy()\n",
    "  hist_b = hist_avg < hist_avg.max() - hist_avg.std()\n",
    "  cols1 = np.argwhere(hist_b[1:] & (hist_b[1:] ^ hist_b[:-1])).reshape(-1)\n",
    "  cols2 = np.argwhere(hist_b[:-1] & (hist_b[1:] ^ hist_b[:-1])).reshape(-1)\n",
    "  cols = (cols1 + ((cols1 - cols2) * 0.8)).astype(int)\n",
    "\n",
    "  return cols"
   ]
  },
  {
   "cell_type": "code",
   "execution_count": 19,
   "metadata": {},
   "outputs": [],
   "source": [
    "sample = [\n",
    "  im for i, im in\n",
    "enumerate(images.values()) if i < 5]"
   ]
  },
  {
   "cell_type": "code",
   "execution_count": 20,
   "metadata": {},
   "outputs": [],
   "source": [
    "cols = detect_column(sample[:1])"
   ]
  },
  {
   "cell_type": "code",
   "execution_count": null,
   "metadata": {},
   "outputs": [],
   "source": []
  },
  {
   "cell_type": "code",
   "execution_count": 244,
   "metadata": {},
   "outputs": [],
   "source": [
    "def cell_span(boxes):\n",
    "  x0 = boxes[:, 0]\n",
    "  x1 = (x0 + boxes[:, 2]).max()\n",
    "  x0 = x0.min()\n",
    "  y0 = boxes[:, 1]\n",
    "  y1 = (y0 + boxes[:, 3]).max()\n",
    "  y0 = y0.min()\n",
    "  return (x0, y0, x1-x0, y1-y0)\n"
   ]
  },
  {
   "cell_type": "code",
   "execution_count": 249,
   "metadata": {},
   "outputs": [],
   "source": [
    "def draw_boxes(boxes, image, self):\n",
    "  canvas = image.copy()\n",
    "  for x, y, w, h in boxes:\n",
    "    continue\n",
    "    canvas = cv2.rectangle(canvas, (x, y), (x+w, y+h), 255, 1)\n",
    "  x, y, w, h = self\n",
    "  canvas = cv2.rectangle(canvas, (x, y), (x+w, y+h), 1, 2)\n",
    "  x0, y0, w, h = cell_span(boxes)\n",
    "  canvas = cv2.rectangle(canvas, (x0, y0), (x0+w, y0+h), (100, 100, 1000), 1)\n",
    "  return canvas"
   ]
  },
  {
   "cell_type": "code",
   "execution_count": 250,
   "metadata": {},
   "outputs": [],
   "source": [
    "for image, boxes in zip(images.values(), image_boxes):\n",
    "  boxes = np.array(boxes)\n",
    "  break"
   ]
  },
  {
   "cell_type": "code",
   "execution_count": 252,
   "metadata": {},
   "outputs": [
    {
     "data": {
      "text/plain": [
       "True"
      ]
     },
     "execution_count": 252,
     "metadata": {},
     "output_type": "execute_result"
    }
   ],
   "source": [
    "def line():\n",
    "  # create -1 matrix\n",
    "  box_line_num = np.zeros(len(boxes))\n",
    "  box_line_num.fill(-1)\n",
    "  # sorting by x axis\n",
    "  boxes = np.array(sorted(boxes, key=lambda x: x[0]))\n",
    "  i = 0\n",
    "  line_image = image.copy()\n",
    "  while (box_line_num == -1).any():\n",
    "    if box_line_num[i] != -1:\n",
    "      i += 1\n",
    "      continue\n",
    "    center = boxes[:, 1] + (boxes[:, 3]/2)\n",
    "    angle = np.arctan2((center - center[i]), (boxes[:, 0] - boxes[i, 0]))\n",
    "\n",
    "    is_in_line = (np.abs(angle) < 0.03)\n",
    "    is_in_line_index = np.argwhere(is_in_line).reshape(-1)\n",
    "\n",
    "    line_boxes = boxes[is_in_line_index]\n",
    "    box_line_num[is_in_line] = i\n",
    "\n",
    "    # line_image = draw_boxes(line_boxes, line_image, boxes[i])\n",
    "    # cell_spans.append(cell_span(line_boxes))\n",
    "    i += 1\n",
    "  \n",
    "  return box_line_num"
   ]
  },
  {
   "cell_type": "code",
   "execution_count": 255,
   "metadata": {},
   "outputs": [],
   "source": [
    "cell_spans = np.array(cell_spans)"
   ]
  },
  {
   "cell_type": "code",
   "execution_count": 260,
   "metadata": {},
   "outputs": [
    {
     "data": {
      "text/plain": [
       "array([1177, 1077, 1077, 1076, 1077, 1077, 1077, 1077, 1076, 1077, 1077,\n",
       "       1076, 1076, 1077, 1077, 1077, 1077, 1077, 1077, 1077, 1077, 1077,\n",
       "       1077, 1077, 1077, 1078, 1075, 1075, 1076, 1076, 1076, 1076, 1074,\n",
       "       1074,  606,  325,  145])"
      ]
     },
     "execution_count": 260,
     "metadata": {},
     "output_type": "execute_result"
    }
   ],
   "source": [
    "cell_spans[:, 2]"
   ]
  },
  {
   "cell_type": "code",
   "execution_count": null,
   "metadata": {},
   "outputs": [],
   "source": []
  }
 ],
 "metadata": {
  "kernelspec": {
   "display_name": "Python 3.9.7 ('base')",
   "language": "python",
   "name": "python3"
  },
  "language_info": {
   "codemirror_mode": {
    "name": "ipython",
    "version": 3
   },
   "file_extension": ".py",
   "mimetype": "text/x-python",
   "name": "python",
   "nbconvert_exporter": "python",
   "pygments_lexer": "ipython3",
   "version": "3.9.7"
  },
  "orig_nbformat": 4,
  "vscode": {
   "interpreter": {
    "hash": "06a1f1a44851178a47cec35640b473cf7ad372c57da1cea48f655073264bf03f"
   }
  }
 },
 "nbformat": 4,
 "nbformat_minor": 2
}
