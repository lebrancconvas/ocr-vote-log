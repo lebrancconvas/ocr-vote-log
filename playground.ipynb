{
 "cells": [
  {
   "cell_type": "code",
   "execution_count": 1,
   "metadata": {},
   "outputs": [],
   "source": [
    "import pandas as pd\n",
    "import requests\n",
    "import os\n",
    "import cv2\n",
    "import json\n",
    "import numpy as np\n",
    "\n",
    "vote_count_fpath = 'test/[WeVis] They Work for Us - Politician Data - [T] PeopleVote.csv'\n",
    "vote_fpath = 'test/[WeVis] They Work for Us - Politician Data - [T] Votelog.csv'"
   ]
  },
  {
   "cell_type": "code",
   "execution_count": 2,
   "metadata": {},
   "outputs": [],
   "source": [
    "# images_p = [os.path.join('test/pdf/20190823113634A11', f) for f in os.listdir('test/pdf/20190823113634A11')]\n",
    "# images = [cv2.imread(f) for f in images_p]"
   ]
  },
  {
   "cell_type": "code",
   "execution_count": 3,
   "metadata": {},
   "outputs": [],
   "source": [
    "def parse_text(image):\n",
    "      gray = cv2.cvtColor(image, cv2.COLOR_RGB2GRAY)\n",
    "      blured = cv2.GaussianBlur(gray, (1, 9), 0)\n",
    "      th, threshed = cv2.threshold(blured, 200, 255, cv2.THRESH_BINARY_INV|cv2.THRESH_OTSU)\n",
    "      kernel = cv2.getStructuringElement(cv2.MORPH_RECT, (5, 5))\n",
    "      threshed = cv2.dilate(threshed, kernel)\n",
    "      hist = cv2.reduce(threshed, 1, cv2.REDUCE_AVG).reshape(-1)\n",
    "\n",
    "      kernel = cv2.getStructuringElement(cv2.MORPH_RECT, (10, 2))\n",
    "      dilated = cv2.dilate(threshed, kernel)\n",
    "      contours, hier  = cv2.findContours(\n",
    "            dilated, cv2.RETR_EXTERNAL, cv2.CHAIN_APPROX_NONE)\n",
    "      rects = [cv2.boundingRect(c) for c in contours]\n",
    "      rects.sort(key=lambda rect: rect[1])\n",
    "\n",
    "      return rects\n"
   ]
  },
  {
   "cell_type": "code",
   "execution_count": 4,
   "metadata": {},
   "outputs": [],
   "source": [
    "pdf_dir = 'test/pdf'\n",
    "images = {}\n",
    "for dirpath, dir, filenames in os.walk(pdf_dir):\n",
    "  # if dirpath == pdf_dir: continue\n",
    "  for fname in filenames:\n",
    "    if not fname.endswith('.png'): continue\n",
    "    fpath = os.path.join(dirpath, fname)\n",
    "    image = cv2.imread(fpath)\n",
    "    images[fpath] = image\n",
    "    # if len(images.keys()) > 10: break\n",
    "\n"
   ]
  },
  {
   "cell_type": "code",
   "execution_count": 5,
   "metadata": {},
   "outputs": [],
   "source": [
    "pred = []\n",
    "image_boxes = []\n",
    "for fpath, image in images.items():\n",
    "  boxes = parse_text(image)\n",
    "  image_boxes.append(boxes)\n",
    "      "
   ]
  },
  {
   "cell_type": "code",
   "execution_count": 6,
   "metadata": {},
   "outputs": [],
   "source": [
    "def label_studio_input(box, labels, image):\n",
    "  x, y, width, height = box\n",
    "  image_height, image_width, _ = image.shape\n",
    "  return {\n",
    "    \"original_width\": image_width,\n",
    "    \"original_height\": image_height,\n",
    "    \"image_rotation\": 0,\n",
    "    \"value\": {\n",
    "      \"x\": x/image_width*100,\n",
    "      \"y\": y/image_height*100,\n",
    "      \"width\": width/image_width*100,\n",
    "      \"height\": height/image_height*100,\n",
    "      \"rotation\": 0,\n",
    "      \"rectanglelabels\": labels},\n",
    "    \"from_name\": \"label\",\n",
    "    \"to_name\": \"image\",\n",
    "    \"type\": \"rectanglelabels\",\n",
    "  }"
   ]
  },
  {
   "cell_type": "code",
   "execution_count": 7,
   "metadata": {},
   "outputs": [],
   "source": [
    "with open('ds/pred.json', 'w') as f:\n",
    "  json.dump(pred, f, indent=3)"
   ]
  },
  {
   "cell_type": "markdown",
   "metadata": {},
   "source": [
    "# validate"
   ]
  },
  {
   "cell_type": "code",
   "execution_count": 8,
   "metadata": {},
   "outputs": [],
   "source": [
    "import numpy as np"
   ]
  },
  {
   "cell_type": "code",
   "execution_count": 9,
   "metadata": {},
   "outputs": [],
   "source": [
    "size = []\n",
    "for impred in pred:\n",
    "  for prediction in impred['predictions']:\n",
    "    new_res = []\n",
    "    for result in prediction['result']:\n",
    "      w = result['value']['width']\n",
    "      h = result['value']['height']\n",
    "      size.append(w*h)\n",
    "      if w*h > 1:\n",
    "        new_res.append(result)\n",
    "    # annot['result'] = list()\n",
    "    # annot['predictions'] = new_res"
   ]
  },
  {
   "cell_type": "markdown",
   "metadata": {},
   "source": [
    "# Column"
   ]
  },
  {
   "cell_type": "code",
   "execution_count": 10,
   "metadata": {},
   "outputs": [],
   "source": [
    "def detect_column(images):\n",
    "  kernel = cv2.getStructuringElement(cv2.MORPH_RECT, (15, 5))\n",
    "  hist_avg = None\n",
    "  for im in images:\n",
    "    gray = cv2.cvtColor(im, cv2.COLOR_RGB2GRAY)\n",
    "    th, threshed = cv2.threshold(gray, 200, 255, cv2.THRESH_BINARY_INV)\n",
    "    dilated = cv2.dilate(threshed, kernel, iterations=3)\n",
    "\n",
    "    if hist_avg is None:\n",
    "      hist_avg = cv2.reduce(dilated, 0, cv2.REDUCE_AVG)\n",
    "    else:\n",
    "      hist_avg = (hist_avg + cv2.reduce(dilated, 0, cv2.REDUCE_AVG)) / 2\n",
    "\n",
    "  hist_avg = hist_avg.reshape(-1)\n",
    "\n",
    "  lined = im.copy()\n",
    "  hist_b = hist_avg < hist_avg.max() - hist_avg.std()\n",
    "  cols1 = np.argwhere(hist_b[1:] & (hist_b[1:] ^ hist_b[:-1])).reshape(-1)\n",
    "  cols2 = np.argwhere(hist_b[:-1] & (hist_b[1:] ^ hist_b[:-1])).reshape(-1)\n",
    "  cols = (cols1 + ((cols1 - cols2) * 0.8)).astype(int)\n",
    "\n",
    "  return cols"
   ]
  },
  {
   "cell_type": "code",
   "execution_count": 11,
   "metadata": {},
   "outputs": [],
   "source": [
    "def outer_box(boxes):\n",
    "  x0 = boxes[:, 0]\n",
    "  x1 = (x0 + boxes[:, 2]).max()\n",
    "  x0 = x0.min()\n",
    "  y0 = boxes[:, 1]\n",
    "  y1 = (y0 + boxes[:, 3]).max()\n",
    "  y0 = y0.min()\n",
    "  return (x0, y0, x1-x0, y1-y0)\n"
   ]
  },
  {
   "cell_type": "code",
   "execution_count": 12,
   "metadata": {},
   "outputs": [],
   "source": [
    "def draw_boxes(boxes, image, self=None):\n",
    "  canvas = image.copy()\n",
    "  for x, y, w, h in boxes:\n",
    "    canvas = cv2.rectangle(canvas, (x, y), (x+w, y+h), 255, 1)\n",
    "  if self is not None:\n",
    "    x, y, w, h = self\n",
    "    canvas = cv2.rectangle(canvas, (x, y), (x+w, y+h), 1, 2)\n",
    "  x0, y0, w, h = outer_box(boxes)\n",
    "  canvas = cv2.rectangle(canvas, (x0, y0), (x0+w, y0+h), (100, 100, 1000), 1)\n",
    "  return canvas"
   ]
  },
  {
   "cell_type": "code",
   "execution_count": 13,
   "metadata": {},
   "outputs": [],
   "source": [
    "def line(sorted_boxes: np.array) -> np.array:\n",
    "  # create -1 matrix\n",
    "  box_line_num = np.zeros(len(sorted_boxes))\n",
    "  box_line_num.fill(-1)\n",
    "  # sorting by x axis\n",
    "\n",
    "  i = 0\n",
    "  line_image = image.copy()\n",
    "  while (box_line_num == -1).any():\n",
    "    if box_line_num[i] != -1:\n",
    "      i += 1\n",
    "      continue\n",
    "    center = sorted_boxes[:, 1] + (sorted_boxes[:, 3]/2)\n",
    "    angle = np.arctan2((center - center[i]), (sorted_boxes[:, 0] - sorted_boxes[i, 0]))\n",
    "\n",
    "    is_in_line = (np.abs(angle) < 0.03)\n",
    "    is_in_line_index = np.argwhere(is_in_line).reshape(-1)\n",
    "\n",
    "    line_boxes = sorted_boxes[is_in_line_index]\n",
    "    box_line_num[is_in_line] = i\n",
    "\n",
    "    i += 1\n",
    "  \n",
    "  return box_line_num"
   ]
  },
  {
   "cell_type": "code",
   "execution_count": 14,
   "metadata": {},
   "outputs": [],
   "source": [
    "def row_span_in_page(line_nums, boxes):\n",
    "  lnums = np.unique(line_nums) # unique line number\n",
    "  boxes_in_lines = [boxes[line_nums == i] for i in lnums]\n",
    "  row_spans = np.array([outer_box(b) for b in boxes_in_lines])\n",
    "  thred = (row_spans[:, 2].mean() - row_spans.std()/2)\n",
    "  row_indexes = np.where(row_spans[:, 2] > thred)\n",
    "  row_spans = row_spans[row_indexes]\n",
    "  return row_spans\n"
   ]
  },
  {
   "cell_type": "code",
   "execution_count": 21,
   "metadata": {},
   "outputs": [],
   "source": [
    "def column_markers(image, boxes, table):\n",
    "  empty_image = np.zeros(image.shape)\n",
    "  empty_image.fill(255)\n",
    "  x_hist = np.zeros(image.shape[1])\n",
    "  tx, ty, tw, th = table\n",
    "  for x, y, w, h in boxes:\n",
    "    if x >= tx and y >= ty and x+w <= tx+tw and y+h <= ty+th:\n",
    "      x_hist[x:x+w] += h\n",
    "      empty_image[y:y+h, x:x+w] = 0\n",
    "  bxhist = x_hist.astype(bool)\n",
    "  bxor = np.logical_xor(bxhist[1:], bxhist[:-1])\n",
    "  col_marks = np.argwhere(bxor)\n",
    "  if col_marks.size % 2:\n",
    "    col_marks = np.append(col_marks, [table[1]+table[3]])\n",
    "  col_marks = col_marks.reshape(col_marks.size//2, 2)\n",
    "  columns = []\n",
    "  for x0, x1 in col_marks:\n",
    "    columns.append((x0, table[1], x1-x0, table[3]))\n",
    "  columns = np.array(columns)\n",
    "  return columns"
   ]
  },
  {
   "cell_type": "code",
   "execution_count": 22,
   "metadata": {},
   "outputs": [],
   "source": [
    "def filter(boxes):\n",
    "  size_filter = (boxes[:, 2]*boxes[:, 3] > 300)\n",
    "  ratio_filter = (boxes[:, 2]/boxes[:, 3] > 0.5)\n",
    "  return size_filter & ratio_filter"
   ]
  },
  {
   "cell_type": "code",
   "execution_count": 23,
   "metadata": {},
   "outputs": [],
   "source": [
    "def append_rectangles(to, boxes, labels):\n",
    "  for box in boxes:\n",
    "    to.append({'box': box,'labels': labels})\n"
   ]
  },
  {
   "cell_type": "code",
   "execution_count": 24,
   "metadata": {},
   "outputs": [],
   "source": [
    "for (fpath, image), boxes in zip(images.items(), image_boxes):\n",
    "  if not fpath.endswith('00.png'): continue\n",
    "  break\n",
    "boxes.sort(key=lambda x: x[0])\n",
    "boxes = np.array(boxes)"
   ]
  },
  {
   "cell_type": "code",
   "execution_count": null,
   "metadata": {},
   "outputs": [],
   "source": []
  },
  {
   "cell_type": "code",
   "execution_count": 25,
   "metadata": {},
   "outputs": [],
   "source": [
    "def process_data(image, boxes, fpath):\n",
    "  boxes.sort(key=lambda x: x[0])\n",
    "  boxes = np.array(boxes)\n",
    "  \n",
    "  rectangles = list()\n",
    "  boxes = boxes[filter(boxes)]\n",
    "  append_rectangles(rectangles, boxes, ['text'])\n",
    "\n",
    "  line_nums = line(boxes)\n",
    "\n",
    "  row_spans = row_span_in_page(line_nums, boxes)\n",
    "  append_rectangles(rectangles, row_spans, ['table row'])\n",
    "\n",
    "  table = outer_box(row_spans)\n",
    "  append_rectangles(rectangles, [table], ['table'])\n",
    "  # canvas = draw_boxes(row_spans, image)\n",
    "\n",
    "  column_spans = column_markers(image, boxes, table)\n",
    "  append_rectangles(rectangles, column_spans, ['table column'])\n",
    "  # canvas = draw_boxes(column_pairs, canvas)\n",
    "\n",
    "  # cv2.imwrite('draw.png', canvas);\n",
    "\n",
    "  return {\n",
    "    \"data\": {\n",
    "      \"ocr\": f\"/data/local-files/?d={os.path.abspath(fpath)}\"\n",
    "    },\n",
    "    \"predictions\": [{\n",
    "        \"model_version\": \"0.0.2\",\n",
    "        \"result\": [label_studio_input(rect['box'], rect['labels'], image) for rect in rectangles],\n",
    "      }]\n",
    "  }"
   ]
  },
  {
   "cell_type": "code",
   "execution_count": 26,
   "metadata": {},
   "outputs": [],
   "source": [
    "importdata = [process_data(image, boxes, fpath) for (fpath, image), boxes in zip(images.items(), image_boxes)]"
   ]
  },
  {
   "cell_type": "code",
   "execution_count": 27,
   "metadata": {},
   "outputs": [],
   "source": [
    "with open('ds/pred.json', 'w') as fp:\n",
    "  json.dump(importdata, fp)"
   ]
  },
  {
   "cell_type": "code",
   "execution_count": null,
   "metadata": {},
   "outputs": [],
   "source": []
  }
 ],
 "metadata": {
  "kernelspec": {
   "display_name": "Python 3.9.7 ('base')",
   "language": "python",
   "name": "python3"
  },
  "language_info": {
   "codemirror_mode": {
    "name": "ipython",
    "version": 3
   },
   "file_extension": ".py",
   "mimetype": "text/x-python",
   "name": "python",
   "nbconvert_exporter": "python",
   "pygments_lexer": "ipython3",
   "version": "3.9.7"
  },
  "orig_nbformat": 4,
  "vscode": {
   "interpreter": {
    "hash": "06a1f1a44851178a47cec35640b473cf7ad372c57da1cea48f655073264bf03f"
   }
  }
 },
 "nbformat": 4,
 "nbformat_minor": 2
}
